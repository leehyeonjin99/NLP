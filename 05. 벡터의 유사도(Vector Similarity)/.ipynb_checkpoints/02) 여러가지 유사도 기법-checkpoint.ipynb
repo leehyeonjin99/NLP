{
 "cells": [
  {
   "attachments": {
    "image.png": {
     "image/png": "[encoded data removed]"
    }
   },
   "cell_type": "markdown",
   "id": "27e8b0e7",
   "metadata": {},
   "source": [
    "# 1. 유클리드 거리(Euclidean distance)\n",
    "\n",
    "유클리드 거리 공식 : 두 점 사이의 거리 계산\n",
    "![image.png](attachment:image.png)\n",
    "\n",
    "DTM 예시\n",
    "\n",
    "|-|바나나|사과|저는|좋아요|\n",
    "|:---:|:---:|:---:|:---:|:---:|\n",
    "|문서1|2|3|0|1|\n",
    "|문서2|1|2|3|1|\n",
    "|문서3|2|1|2|2|\n",
    "|문서Q|1|1|0|1|\n",
    "\n",
    "유클리드 거리를 통해서 문서Q와의 유사도를 구해보자"
   ]
  },
  {
   "cell_type": "code",
   "execution_count": 1,
   "id": "f65cdd9d",
   "metadata": {},
   "outputs": [
    {
     "name": "stdout",
     "output_type": "stream",
     "text": [
      "문서1과 문서Q의 거리 : 2.23606797749979\n",
      "문서2과 문서Q의 거리 : 3.1622776601683795\n",
      "문서3과 문서Q의 거리 : 2.449489742783178\n"
     ]
    }
   ],
   "source": [
    "import numpy as np\n",
    "\n",
    "def dist(x,y):\n",
    "    return np.sqrt(np.sum((x-y)**2))\n",
    "\n",
    "doc1=np.array([2,3,0,1])\n",
    "doc2=np.array([1,2,3,1])\n",
    "doc3=np.array([2,1,2,2])\n",
    "docQ=np.array([1,1,0,1])\n",
    "\n",
    "print('문서1과 문서Q의 거리 :',dist(doc1,docQ))\n",
    "print('문서2과 문서Q의 거리 :',dist(doc2,docQ))\n",
    "print('문서3과 문서Q의 거리 :',dist(doc3,docQ))"
   ]
  },
  {
   "cell_type": "markdown",
   "id": "77df0a58",
   "metadata": {},
   "source": [
    "문서1과 문서Q가 가장 유사하다고 볼 수 있다."
   ]
  },
  {
   "attachments": {
    "image.png": {
     "image/png": "[encoded data removed]"
    }
   },
   "cell_type": "markdown",
   "id": "0e986eaf",
   "metadata": {},
   "source": [
    "# 2. 자카드 유사도(Jaccard similarity)\n",
    "\n",
    "자카드 유사도 공식 \n",
    "\n",
    "![image.png](attachment:image.png)\n",
    "\n",
    "- 0과 1사이의 값을 가진다.\n",
    "- 공통 원소가 없다면 0의 값을 가진다."
   ]
  },
  {
   "cell_type": "code",
   "execution_count": 2,
   "id": "eb63fbe0",
   "metadata": {},
   "outputs": [
    {
     "name": "stdout",
     "output_type": "stream",
     "text": [
      "문서1 : ['apple', 'banana', 'everyone', 'like', 'likey', 'watch', 'card', 'holder']\n",
      "문서2 : ['apple', 'banana', 'coupon', 'passport', 'love', 'you']\n"
     ]
    }
   ],
   "source": [
    "doc1 = \"apple banana everyone like likey watch card holder\"\n",
    "doc2 = \"apple banana coupon passport love you\"\n",
    "\n",
    "tokenized_doc1=doc1.split()\n",
    "tokenized_doc2=doc2.split()\n",
    "\n",
    "print('문서1 :',tokenized_doc1)\n",
    "print('문서2 :',tokenized_doc2)"
   ]
  },
  {
   "cell_type": "code",
   "execution_count": 3,
   "id": "9e1398c3",
   "metadata": {},
   "outputs": [
    {
     "name": "stdout",
     "output_type": "stream",
     "text": [
      "문서1과 문서2의 합집합 : {'love', 'card', 'like', 'passport', 'apple', 'coupon', 'watch', 'likey', 'banana', 'you', 'holder', 'everyone'}\n"
     ]
    }
   ],
   "source": [
    "union=set(tokenized_doc1)|(set(tokenized_doc2))\n",
    "print('문서1과 문서2의 합집합 :', union)"
   ]
  },
  {
   "cell_type": "code",
   "execution_count": 4,
   "id": "d0ec6a3f",
   "metadata": {},
   "outputs": [
    {
     "name": "stdout",
     "output_type": "stream",
     "text": [
      "문서1과 문서2의 교집합 : {'banana', 'apple'}\n"
     ]
    }
   ],
   "source": [
    "intersection=set(tokenized_doc1)&(set(tokenized_doc2))\n",
    "print('문서1과 문서2의 교집합 :', intersection)"
   ]
  },
  {
   "cell_type": "code",
   "execution_count": 5,
   "id": "b214596c",
   "metadata": {},
   "outputs": [
    {
     "name": "stdout",
     "output_type": "stream",
     "text": [
      "자카드 유사도 : 0.16666666666666666\n"
     ]
    }
   ],
   "source": [
    "print('자카드 유사도 :',len(intersection)/len(union))"
   ]
  }
 ],
 "metadata": {
  "kernelspec": {
   "display_name": "Python 3 (ipykernel)",
   "language": "python",
   "name": "python3"
  },
  "language_info": {
   "codemirror_mode": {
    "name": "ipython",
    "version": 3
   },
   "file_extension": ".py",
   "mimetype": "text/x-python",
   "name": "python",
   "nbconvert_exporter": "python",
   "pygments_lexer": "ipython3",
   "version": "3.9.7"
  }
 },
 "nbformat": 4,
 "nbformat_minor": 5
}
