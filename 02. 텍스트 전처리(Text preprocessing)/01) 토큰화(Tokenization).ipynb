{
 "cells": [
  {
   "cell_type": "markdown",
   "id": "daaa109a",
   "metadata": {},
   "source": [
    "# 1. 단어 토큰화 (Word Tokenization)\n",
    "\n",
    "단어 토큰화 : 토큰의 기준을 단어로 하는 경우 (단어는 단어 단위 외에도 단어구, 의미를 갖는 문자열로도 간주)  \n",
    "\n",
    "<예제>  \n",
    "- 입력 : **Time is an illustion. Lunchtime duouble so!**  \n",
    "- 출력 : \"Time\", \"is\", \"an\", \"illustion\", \"Lunchtime\", \"double\", \"so\"\n",
    "\n",
    "해당 예제에서 토큰화 작업은 구두점을 지운 뒤에 띄어쓰기를 기준으로 잘라냄\n",
    "\n",
    "보통 토큰화 작업은 단순히 구두점이나 특수문자를 전부 제거하는 정제 작업을 수행하는 것만을 해결되지 않는다.  \n",
    "구두점이나 특수문자를 전부 제거하면 토큰이 의미를 잃어버리는 경우가 발생하기도 한다.  \n",
    "띄어쓰기 단위로 자르면 사실상 단어 토큰이 구분되는 영어와 달리, 한국어는 띄어쓰기만으로는 단어 토큰을 구분하기 어렵다."
   ]
  },
  {
   "cell_type": "markdown",
   "id": "dc8a35c5",
   "metadata": {},
   "source": [
    "# 2. 토큰화 중 생기는 선택의 순간\n",
    "토큰화 기준의 선택은 해당 데이터를 갖고 어떤 용도로 사용할 것인지에 따라서 그 용도에 영향이 없는 기준으로 정한면 된다.  \n",
    "\n",
    "<예제>  \n",
    "**Don't be fooled by the dark souding name, Mr.Jone's Orphange is as cheery as cheery goes for a pastry shop.**  \n",
    "Don't와 Jone's의 토큰화 방법  \n",
    "- Don't\n",
    "- Don t\n",
    "- Dont\n",
    "- Do n't\n",
    "- Jone's\n",
    "- Jone s\n",
    "- Jone\n",
    "- Jones\n",
    "\n",
    "기존에 공개된 도구들을 사용하였을 떄의 결과가 사용자의 목적과 일치한다면 해당 도구 사용 가능  \n",
    "NLTK : 영어 코퍼스를 토큰화하기 위한 도구들을 제공\n",
    "\n"
   ]
  },
  {
   "cell_type": "code",
   "execution_count": 1,
   "id": "43509162",
   "metadata": {},
   "outputs": [],
   "source": [
    "from nltk.tokenize import word_tokenize\n",
    "from nltk.tokenize import WordPunctTokenizer\n",
    "from tensorflow.keras.preprocessing.text import text_to_word_sequence"
   ]
  },
  {
   "cell_type": "code",
   "execution_count": 2,
   "id": "c997e171",
   "metadata": {},
   "outputs": [
    {
     "name": "stdout",
     "output_type": "stream",
     "text": [
      "단어 토큰화1 : ['Do', \"n't\", 'be', 'fooled', 'by', 'the', 'dark', 'souding', 'name', ',', 'Mr.', 'Jone', \"'s\", 'Orphange', 'is', 'as', 'cheery', 'as', 'cheery', 'goes', 'for', 'a', 'pastry', 'shop', '.']\n"
     ]
    }
   ],
   "source": [
    "print(\"단어 토큰화1 :\",word_tokenize(\"Don't be fooled by the dark souding name, Mr. Jone's Orphange is as cheery as cheery goes for a pastry shop.\"))"
   ]
  },
  {
   "cell_type": "markdown",
   "id": "6267367b",
   "metadata": {},
   "source": [
    "word_tokenzie\n",
    "- \"Don't\"→\"Do\",\"n't\"\n",
    "- \"Jone's\"→\"Jone\",\"'s\""
   ]
  },
  {
   "cell_type": "code",
   "execution_count": 3,
   "id": "06310aca",
   "metadata": {},
   "outputs": [
    {
     "name": "stdout",
     "output_type": "stream",
     "text": [
      "단어 토큰화2 : ['Don', \"'\", 't', 'be', 'fooled', 'by', 'the', 'dark', 'souding', 'name', ',', 'Mr', '.', 'Jone', \"'\", 's', 'Orphange', 'is', 'as', 'cheery', 'as', 'cheery', 'goes', 'for', 'a', 'pastry', 'shop', '.']\n"
     ]
    }
   ],
   "source": [
    "print(\"단어 토큰화2 :\",WordPunctTokenizer().tokenize(\"Don't be fooled by the dark souding name, Mr. Jone's Orphange is as cheery as cheery goes for a pastry shop.\"))"
   ]
  },
  {
   "cell_type": "markdown",
   "id": "edadb891",
   "metadata": {},
   "source": [
    "WordPunctTokenizer  \n",
    "- \"Don't\"→\"Don\", \"'\", \"t\"\n",
    "- \"Jone's\"→\"Jone\", \"'\", \"s\""
   ]
  },
  {
   "cell_type": "code",
   "execution_count": 4,
   "id": "d6f23936",
   "metadata": {},
   "outputs": [
    {
     "name": "stdout",
     "output_type": "stream",
     "text": [
      "단어 토큰화3 : [\"don't\", 'be', 'fooled', 'by', 'the', 'dark', 'souding', 'name', 'mr', \"jone's\", 'orphange', 'is', 'as', 'cheery', 'as', 'cheery', 'goes', 'for', 'a', 'pastry', 'shop']\n"
     ]
    }
   ],
   "source": [
    "print(\"단어 토큰화3 :\",text_to_word_sequence(\"Don't be fooled by the dark souding name, Mr. Jone's Orphange is as cheery as cheery goes for a pastry shop.\"))"
   ]
  },
  {
   "cell_type": "markdown",
   "id": "3d32527c",
   "metadata": {},
   "source": [
    "keras의 text_to_word_sequence\n",
    "- 모든 알파벳을 소문자로 바꾸면서 마침표마 컴마, 느낌표 등의 구두점 제거\n",
    "- 아포스트로피는 보존"
   ]
  },
  {
   "cell_type": "markdown",
   "id": "eed36a93",
   "metadata": {},
   "source": [
    "# 3. 토큰화에서 고려해야할 사항\n",
    "#### 1) 구두점이나 특수 문자를 단순 제외해서는 안 된다.\n",
    "코퍼스에 대한 정제 작업을 진행하다보면, 구두점조차도 하나의 토큰으로 분류하기도 한다. 예를 들어보자면, 마침표(.)와 같은 경우는 문장의 경계를 알 수 있는데 도움이 되므로 단어를 뽑아낼 때, 마침표(.)를 제외하지 않을 수 있다.\n",
    "\n",
    "또 다른 예로 들어 단어 자체에 구두점을 갖고 있는 경우도 있는데, m.p.h나 Ph.D나 AT&T 같은 경우가 있다. 또 특수 문자의 달러($)나 슬래시(/)로 예를 들어보면, $45.55와 같은 가격을 의미 하기도 하고, 01/02/06은 날짜를 의미하기도 한다. \n",
    "\n",
    "숫자 사이에 컴마(,)가 들어가는 경우도 있따. 보통 수치를 표현할 때는 123,456,789와 같이 세 자리 단위로 컴마가 있다.\n",
    "\n",
    "#### 2) 줄임말과 단어 내에 띄어쓰기가 있는 경우\n",
    "영어권 언어의 아포스트로피(')는 압축된 단어를 다시 펼치는 역할을 하기도 한다. 예를 들어 what're는 what are의 줄임말이며, we're는 we are의 줄임말이다. 위의 예에서 re을 접어라고 한다. 즉, 단어가 줄임말로 쓰일 때 생기는 형태를 말한다.\n",
    "\n",
    "New York이라는 단어나 rock 'n' roll이라는 단어를 보자. 이다 단어들은 하나의 단어이지만 중간에 뜨어쓰기가 존재한다. 사용 용도에 따라서, 하나의 단어 사이에 띄어쓰기가 있는 경우에도 하나의 토큰으로 봐야하는 경우도 있을 수 있으므로, 토큰화 작업은 저러한 단어를 한로 인식할 수 있는 능력도 가져야한다.\n",
    "\n",
    "#### 3) 표준 토큰화 예제\n",
    "Penn Treebank Tokenization : 표준으로 쓰이고 있는 토큰화 방법 중 하나  \n",
    "- 규칙1. 하이푼으로 구성된 단어는 하나로 유지한다.  \n",
    "- 규칙2. doesn't와 같이 아포스트로피의 접어가 함께하는 단어는 분리해준다.\n",
    "\n",
    "해당 표준에 아래의 문장을 입력으로 넣어보자  \n",
    "\"Starting a home-based restaurant may be an ideal. it doesn't have a food chain or restaurant of their own.\""
   ]
  },
  {
   "cell_type": "code",
   "execution_count": 5,
   "id": "0d2b3336",
   "metadata": {},
   "outputs": [
    {
     "name": "stdout",
     "output_type": "stream",
     "text": [
      "Treebank Tokenizer : ['Starting', 'a', 'home-based', 'restaurant', 'may', 'be', 'an', 'ideal.', 'it', 'does', \"n't\", 'have', 'a', 'food', 'chain', 'or', 'restaurant', 'of', 'their', 'own', '.']\n"
     ]
    }
   ],
   "source": [
    "from nltk.tokenize import TreebankWordTokenizer\n",
    "\n",
    "tokenizer=TreebankWordTokenizer()\n",
    "text=\"Starting a home-based restaurant may be an ideal. it doesn't have a food chain or restaurant of their own.\"\n",
    "print('Treebank Tokenizer :',tokenizer.tokenize(text))"
   ]
  },
  {
   "cell_type": "markdown",
   "id": "c83bb8b6",
   "metadata": {},
   "source": [
    "# 4. 문장 토큰화(Sentence Tokenization)\n",
    "문장 토큰화==문장 분류 : 코퍼스 내에서 문장 단위로 구분하는 작업\n",
    "\n",
    "직관적으로 생각하면 ?나 마침표(.)나 ! 기준으로 문장을 잘라내면 될거라 생각할 수 있다.  \n",
    "!나 ?는 문장의 구분을 위한 꽤 명확한 구분자 역할을 하지만 마침표는 그렇지 않다.  \n",
    "\n",
    "\n",
    "**EX1) IP 192.168.56.31 서버에 들어가서 로그 파일 저장해서 aaa@gmail.com로 결과 좀 보내줘. 그 후 점심 먹으러 가자.**  \n",
    "**EX2) Since I'm actively looking for Ph.D. students, I get the same question a dozen times every year.**\n",
    "\n",
    "NLTK에서는 영어 문장의 토큰화를 수행하는 sent_tokenize를 지원하고 있다."
   ]
  },
  {
   "cell_type": "code",
   "execution_count": 6,
   "id": "c5e23d01",
   "metadata": {},
   "outputs": [
    {
     "name": "stdout",
     "output_type": "stream",
     "text": [
      "문장 토큰화1 : ['His barber kept his word.', 'But keeping such a huge secret to himself was driving him crazy.', 'Finally, the barber went up a mountain and almost to the edge of a cliff.', 'He dug a hole in the midst of some reeds.', 'He looked about, to make sure no one was near.']\n"
     ]
    }
   ],
   "source": [
    "from nltk.tokenize import sent_tokenize\n",
    "\n",
    "text=\"His barber kept his word. But keeping such a huge secret to himself was driving him crazy. Finally, the barber went up a mountain and almost to the edge of a cliff. He dug a hole in the midst of some reeds. He looked about, to make sure no one was near.\"\n",
    "print(\"문장 토큰화1 :\",sent_tokenize(text))"
   ]
  },
  {
   "cell_type": "code",
   "execution_count": 7,
   "id": "6e84fc15",
   "metadata": {},
   "outputs": [
    {
     "name": "stdout",
     "output_type": "stream",
     "text": [
      "문장 토큰화2 : ['I am actively looking for Ph.D. students.', 'and you are a Ph.D student.']\n"
     ]
    }
   ],
   "source": [
    "text=\"I am actively looking for Ph.D. students. and you are a Ph.D student.\"\n",
    "print(\"문장 토큰화2 :\",sent_tokenize(text))"
   ]
  },
  {
   "cell_type": "markdown",
   "id": "b6118e66",
   "metadata": {},
   "source": [
    "한국어의 경우에는 박상길님이 개발한 KSS를 추천한다."
   ]
  },
  {
   "cell_type": "code",
   "execution_count": 8,
   "id": "e2f7577b",
   "metadata": {},
   "outputs": [
    {
     "name": "stdout",
     "output_type": "stream",
     "text": [
      "Requirement already satisfied: kss in c:\\users\\revie\\anaconda3\\lib\\site-packages (3.3.1.1)\n",
      "Requirement already satisfied: emoji in c:\\users\\revie\\anaconda3\\lib\\site-packages (from kss) (1.6.1)\n",
      "Note: you may need to restart the kernel to use updated packages.\n"
     ]
    }
   ],
   "source": [
    "pip install kss"
   ]
  },
  {
   "cell_type": "code",
   "execution_count": 9,
   "id": "d9df9ec3",
   "metadata": {},
   "outputs": [
    {
     "name": "stderr",
     "output_type": "stream",
     "text": [
      "[Korean Sentence Splitter]: Initializing Pynori...\n"
     ]
    },
    {
     "name": "stdout",
     "output_type": "stream",
     "text": [
      "한국어 문장 토큰화 : ['딥 러닝 자연어 처리가 재미있기는 합니다.', '그런데 문제는 영어보다 한국어로 할 때 너무 어렵습니다.', '이제 해보면 알걸요?']\n"
     ]
    }
   ],
   "source": [
    "import kss\n",
    "\n",
    "text='딥 러닝 자연어 처리가 재미있기는 합니다. 그런데 문제는 영어보다 한국어로 할 때 너무 어렵습니다. 이제 해보면 알걸요?'\n",
    "print(\"한국어 문장 토큰화 :\",kss.split_sentences(text))"
   ]
  },
  {
   "cell_type": "markdown",
   "id": "3b05ceef",
   "metadata": {},
   "source": [
    "# 5. 한국어에서의 토큰화 어려움\n",
    "영어는 줄임말에 대한 예외처리만 한다면, 띄어쓰기를 기준으로 하는 띄어쓰기 토큰화를 수행해도 단어 토큰화가 잘 작동한다. 거의 대부분의 경우에서 단어 단위로 띄어쓰기가 이루어지기 떄문에 띄어쓰기 토큰화와 단어 토큰화가 거의 같기 때문이다.\n",
    "\n",
    "한국어의 경우에는 띄어쓰기 단위가 되는 단위를 '어절'이라고 하는데, 어절 토큰화는 한국어 NLP에서 지양되고 있다. 어절 토큰화와 단어 토큰화는 같지 않기 떄문이다. 그 근본적인 이유는 한국어가 영어와는 다른 형태를 가지는 교착어라는 점에서 기인한다. 교착어란 조사, 어미 등을 붙여서 만든 언어를 말한다.\n",
    "\n",
    "#### 1) 교착어의 특성\n",
    "영어와는 달리 한국어에는 조사라는 것이 존재한다.그(he/him)이라는 주어나 목적어가 들어간 문장이 있다고 하자. 이 경우, '그'라는 단어 하나에도 '그가', '그에게', '그를', '그와', '그는'과 같이 다양한 조사가 '그'라는 글자 뒤에 띄어쓰기 없이 바로 붙게된다. 자연어 처리를 하다보면 같은 단어임에도 서로 다른 조사가 붙어서 다른 단어로 인식되면 자연어 처리가 힘들고 번거로워지는 경우가 많다. 대부분의 한국어 NLP에서 조사는 분리해줄 필요가 있다.\n",
    "\n",
    "한국어는 어절이 독립적인 단어로 구성되는 것이 아니라 조사 등의 무언가가 붙어있는 경우가 많아서 이를 전부 분리해줘야한다는 의미다.\n",
    "\n",
    "- **자립형태소** : 접사, 어미, 조사와 상관없이 사용할 수 있는 형태소\n",
    "- **의존형태소** : 다른 형태소와 결합하여 사용되는 형태소\n",
    "\n",
    "문장 : 에디가 책을 읽었다.\n",
    "- 띄어쓰기 단위 토큰화 : ['에디가', '책을', '읽었다']\n",
    "- 형태소 단위 토큰화\n",
    "   - 자립 형태소 : 에디, 책\n",
    "   - 의존 형태소 : -가, -을, 읽-, -었, -다\n",
    "   \n",
    "#### 2) 한국어의 띄어쓰기가 영어보다 잘 지켜지지 않는다.\n",
    "한국어의 경우 띄어쓰기가 지켜지지 않아도 글을 쉽게 이해할 수 있는 언어이기 떄문에 많은 경우에 띄어쓰기가 틀렸거나 지켜지지 않는 한국어 코퍼스가 많다.  \n",
    "\n",
    "**EX1) 제가이렇게띄어쓰기를전혀하지않고글을썼다고하더라도글을이해할수있습니다**  \n",
    "**EX2) Tobeornottobethatisthequestion**\n",
    "\n",
    "한국어는 수많은 코퍼스에서 띄어쓰기가 무시되는 경우가 많아 자연어 처리가 어려워졌다.\n"
   ]
  },
  {
   "cell_type": "markdown",
   "id": "4ad3139c",
   "metadata": {},
   "source": [
    "# 6. 품사 태깅(Part-of-speech tagging)\n",
    "단어는 표기는 같지만 품사에 따라서 단어의 의미가 달라지기도 한다.  \n",
    "예를 들어 영어 단어 'fly'는 동사로는 '날다'라는 의미를 갖지만, 명사로는 '파리'라는 의미를 갖고 있다.  \n",
    "한국어의 경우에도 마찬가지다. '못'이라는 단어는 명사로서는 망치를 사용해서 목재 따위를 고정하는 물건을 의미하지만, 부사로서의 '못'은 동작 동사를 할 수 없다는 의미로 쓰인다.  \n",
    "그에 따라 단어 토큰화 과정에서 각ㄱ 단어가 어떤 품사로 쓰였는지를 구분해놓기도 하는데, 이 작업을 품사 태깅이라고 한다."
   ]
  },
  {
   "cell_type": "markdown",
   "id": "1064bd0c",
   "metadata": {},
   "source": [
    "# 7. NLTK와 KoNLPy를 이용한 영어, 한국어 토큰화 실습"
   ]
  },
  {
   "cell_type": "code",
   "execution_count": 10,
   "id": "26bdf1c3",
   "metadata": {},
   "outputs": [
    {
     "name": "stdout",
     "output_type": "stream",
     "text": [
      "단어 토큰화 :  ['I', 'am', 'actively', 'looking', 'for', 'Ph.D.', 'students', '.', 'and', 'you', 'are', 'a', 'Ph.D.', 'student', '.']\n",
      "품사 태깅 [('I', 'PRP'), ('am', 'VBP'), ('actively', 'RB'), ('looking', 'VBG'), ('for', 'IN'), ('Ph.D.', 'NNP'), ('students', 'NNS'), ('.', '.'), ('and', 'CC'), ('you', 'PRP'), ('are', 'VBP'), ('a', 'DT'), ('Ph.D.', 'NNP'), ('student', 'NN'), ('.', '.')]\n"
     ]
    }
   ],
   "source": [
    "from nltk.tokenize import word_tokenize\n",
    "from nltk.tag import pos_tag\n",
    "\n",
    "text=\"I am actively looking for Ph.D. students. and you are a Ph.D. student.\"\n",
    "tokenized_sentece=word_tokenize(text)\n",
    "\n",
    "print('단어 토큰화 : ',tokenized_sentece)\n",
    "print('품사 태깅', pos_tag(tokenized_sentece))"
   ]
  },
  {
   "cell_type": "markdown",
   "id": "3c7b6eb2",
   "metadata": {},
   "source": [
    "- PRP : 인칭 대명사\n",
    "- VBP : 동사\n",
    "- RB : 부사\n",
    "- VBG : 현재부사\n",
    "- IN : 전치사\n",
    "- NNP : 고유 명사\n",
    "- NNS : 복수형 명사 \n",
    "- CC :  접속사\n",
    "- DT : 관사"
   ]
  },
  {
   "cell_type": "code",
   "execution_count": 13,
   "id": "b5ce30a6",
   "metadata": {},
   "outputs": [
    {
     "name": "stdout",
     "output_type": "stream",
     "text": [
      "OKT 형태소 분석 : ['열심히', '코딩', '한', '당신', ',', '연휴', '에는', '여행', '을', '가봐요']\n",
      "OKT 품사 태깅 : [('열심히', 'Adverb'), ('코딩', 'Noun'), ('한', 'Josa'), ('당신', 'Noun'), (',', 'Punctuation'), ('연휴', 'Noun'), ('에는', 'Josa'), ('여행', 'Noun'), ('을', 'Josa'), ('가봐요', 'Verb')]\n",
      "OKT 명사 추출 : ['코딩', '당신', '연휴', '여행']\n"
     ]
    }
   ],
   "source": [
    "from konlpy.tag import Okt\n",
    "from konlpy.tag import Kkma\n",
    "\n",
    "okt=Okt()\n",
    "kkma=Kkma()\n",
    "\n",
    "text='열심히 코딩한 당신, 연휴에는 여행을 가봐요'\n",
    "\n",
    "print('OKT 형태소 분석 :',okt.morphs(text)) # morphs :  형태소 토큰화\n",
    "print('OKT 품사 태깅 :',okt.pos(text)) # pos : 품사 태깅\n",
    "print('OKT 명사 추출 :',okt.nouns(text)) # nouns : 명사 추출"
   ]
  },
  {
   "cell_type": "code",
   "execution_count": 14,
   "id": "8879a0c0",
   "metadata": {},
   "outputs": [
    {
     "name": "stdout",
     "output_type": "stream",
     "text": [
      "KKMA 형태소 분석 : ['열심히', '코딩', '하', 'ㄴ', '당신', ',', '연휴', '에', '는', '여행', '을', '가보', '아요']\n",
      "KKMA 품사 태깅 : [('열심히', 'MAG'), ('코딩', 'NNG'), ('하', 'XSV'), ('ㄴ', 'ETD'), ('당신', 'NP'), (',', 'SP'), ('연휴', 'NNG'), ('에', 'JKM'), ('는', 'JX'), ('여행', 'NNG'), ('을', 'JKO'), ('가보', 'VV'), ('아요', 'EFN')]\n",
      "KKMA 명사 추출 : ['코딩', '당신', '연휴', '여행']\n"
     ]
    }
   ],
   "source": [
    "print('KKMA 형태소 분석 :', kkma.morphs(text))\n",
    "print('KKMA 품사 태깅 :', kkma.pos(text))\n",
    "print('KKMA 명사 추출 :',kkma.nouns(text))"
   ]
  },
  {
   "cell_type": "code",
   "execution_count": null,
   "id": "be3dd324",
   "metadata": {},
   "outputs": [],
   "source": []
  }
 ],
 "metadata": {
  "kernelspec": {
   "display_name": "Python 3 (ipykernel)",
   "language": "python",
   "name": "python3"
  },
  "language_info": {
   "codemirror_mode": {
    "name": "ipython",
    "version": 3
   },
   "file_extension": ".py",
   "mimetype": "text/x-python",
   "name": "python",
   "nbconvert_exporter": "python",
   "pygments_lexer": "ipython3",
   "version": "3.9.7"
  }
 },
 "nbformat": 4,
 "nbformat_minor": 5
}
