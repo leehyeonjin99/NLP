{
 "cells": [
  {
   "cell_type": "markdown",
   "id": "662a4b77",
   "metadata": {},
   "source": [
    "정규화 기법 중 코퍼스에 있는 단어의 개수를 줄일 수 있는 기법 : 표제어 추출, 어간 추출\n",
    "\n",
    "눈으로 봤을 때는 서로 다른 단어들이지만, 하나의 단어로 일반화시킬 수 있다면 하나의 단어로 일반화시켜서 문서 내의 단어 수를 줄인다."
   ]
  },
  {
   "cell_type": "markdown",
   "id": "27893b9f",
   "metadata": {},
   "source": [
    "# 1. 표제어 추출(Lemmatization)\n",
    "표제어 : 기본 사전형 단어\n",
    "표제어 추출 : 단어들이 다른 형태를 가지더라도, 그 뿌리 단어를 찾아가서 단어의 개수를 줄일 수 있는지 판단  \n",
    "ex) be→am, are, is  : 표제어는 be\n",
    "\n",
    "형태소 : 어간과 접사\n",
    "\n",
    "#### 1) 어간(stem)\n",
    ": 단어의 의미를 담고 이는 단어의 핵심 부분\n",
    "#### 2) 접사(affix)\n",
    ": 단어에 추가적인 의미를 주는 부분\n",
    "\n",
    "ex) cats : cat(어간)+-s(접사)"
   ]
  },
  {
   "cell_type": "code",
   "execution_count": 3,
   "id": "84ed1a43",
   "metadata": {},
   "outputs": [
    {
     "name": "stdout",
     "output_type": "stream",
     "text": [
      "표제어 추출 전 : ['policy', 'doing', 'organization', 'have', 'going', 'love', 'lives', 'fly', 'dies', 'watched', 'has', 'starting']\n",
      "표제어 추출 후 : ['policy', 'doing', 'organization', 'have', 'going', 'love', 'life', 'fly', 'dy', 'watched', 'ha', 'starting']\n"
     ]
    }
   ],
   "source": [
    "from nltk.stem import WordNetLemmatizer\n",
    "\n",
    "lemmatizer=WordNetLemmatizer()\n",
    "words=['policy', 'doing', 'organization', 'have', 'going', 'love', 'lives', 'fly', 'dies', 'watched', 'has', 'starting']\n",
    "\n",
    "print('표제어 추출 전 :', words)\n",
    "print('표제어 추출 후 :', [lemmatizer.lemmatize(word) for word in words])"
   ]
  },
  {
   "cell_type": "code",
   "execution_count": 4,
   "id": "c90e2e95",
   "metadata": {},
   "outputs": [
    {
     "data": {
      "text/plain": [
       "'die'"
      ]
     },
     "execution_count": 4,
     "metadata": {},
     "output_type": "execute_result"
    }
   ],
   "source": [
    "lemmatizer.lemmatize('dies','v')"
   ]
  },
  {
   "cell_type": "code",
   "execution_count": 5,
   "id": "73f47a7f",
   "metadata": {},
   "outputs": [
    {
     "data": {
      "text/plain": [
       "'watch'"
      ]
     },
     "execution_count": 5,
     "metadata": {},
     "output_type": "execute_result"
    }
   ],
   "source": [
    "lemmatizer.lemmatize('watched','v')"
   ]
  },
  {
   "cell_type": "code",
   "execution_count": 6,
   "id": "a76eaf85",
   "metadata": {},
   "outputs": [
    {
     "data": {
      "text/plain": [
       "'do'"
      ]
     },
     "execution_count": 6,
     "metadata": {},
     "output_type": "execute_result"
    }
   ],
   "source": [
    "lemmatizer.lemmatize('doing','v')"
   ]
  },
  {
   "cell_type": "code",
   "execution_count": 7,
   "id": "30283f7f",
   "metadata": {},
   "outputs": [
    {
     "data": {
      "text/plain": [
       "'have'"
      ]
     },
     "execution_count": 7,
     "metadata": {},
     "output_type": "execute_result"
    }
   ],
   "source": [
    "lemmatizer.lemmatize('has','v')"
   ]
  },
  {
   "cell_type": "markdown",
   "id": "03ecde22",
   "metadata": {},
   "source": [
    "# 2. 어간 추출(Stemming)\n",
    "**This was not the map we found in Billy Bones's chest, but an accurate copy, complete in all things--names and heights and soundings--with the single exception of the red crosses and the written notes.**"
   ]
  },
  {
   "cell_type": "code",
   "execution_count": 9,
   "id": "cd8e5408",
   "metadata": {},
   "outputs": [
    {
     "name": "stdout",
     "output_type": "stream",
     "text": [
      "어간 추출 전 : ['This', 'was', 'not', 'the', 'map', 'we', 'found', 'in', 'Billy', 'Bones', \"'s\", 'chest', ',', 'but', 'an', 'accurate', 'copy', ',', 'complete', 'in', 'all', 'things', '--', 'names', 'and', 'heights', 'and', 'soundings', '--', 'with', 'the', 'single', 'exception', 'of', 'the', 'red', 'crosses', 'and', 'the', 'written', 'notes', '.']\n",
      "어간 추출 후 : ['thi', 'wa', 'not', 'the', 'map', 'we', 'found', 'in', 'billi', 'bone', \"'s\", 'chest', ',', 'but', 'an', 'accur', 'copi', ',', 'complet', 'in', 'all', 'thing', '--', 'name', 'and', 'height', 'and', 'sound', '--', 'with', 'the', 'singl', 'except', 'of', 'the', 'red', 'cross', 'and', 'the', 'written', 'note', '.']\n"
     ]
    }
   ],
   "source": [
    "from nltk.stem import PorterStemmer\n",
    "from nltk.tokenize import word_tokenize\n",
    "\n",
    "stemmer=PorterStemmer()\n",
    "\n",
    "sentence=\"This was not the map we found in Billy Bones's chest, but an accurate copy, complete in all things--names and heights and soundings--with the single exception of the red crosses and the written notes.\"\n",
    "tokenized_sentence=word_tokenize(sentence)\n",
    "\n",
    "print('어간 추출 전 :',tokenized_sentence)\n",
    "print('어간 추출 후 :',[stemmer.stem(word) for word in tokenized_sentence])"
   ]
  },
  {
   "cell_type": "markdown",
   "id": "6ad2d248",
   "metadata": {},
   "source": [
    "Porter 알고리즘의 어간 추출 규칙\n",
    "- ALIZE → AL\n",
    "- ANCE → 제거\n",
    "- ICAL → IC\n",
    "\n",
    "\n",
    "- formalize → formal\n",
    "- allowance → allow\n",
    "- electrical → electric"
   ]
  },
  {
   "cell_type": "code",
   "execution_count": 12,
   "id": "2b5e7cd2",
   "metadata": {},
   "outputs": [
    {
     "name": "stdout",
     "output_type": "stream",
     "text": [
      "어간 추출 전 : ['formalize', 'allowance', 'electricical']\n",
      "어간 추출 후 : ['formal', 'allow', 'electric']\n"
     ]
    }
   ],
   "source": [
    "from nltk.stem import PorterStemmer\n",
    "\n",
    "stemmer=PorterStemmer()\n",
    "\n",
    "words=['formalize','allowance','electricical']\n",
    "print('어간 추출 전 :', words)\n",
    "print('어간 추출 후 :',[stemmer.stem(word) for word in words])"
   ]
  },
  {
   "cell_type": "code",
   "execution_count": 15,
   "id": "fcd1ca03",
   "metadata": {},
   "outputs": [
    {
     "name": "stdout",
     "output_type": "stream",
     "text": [
      "어간 추출 전 : ['policy', 'doing', 'organization', 'have', 'going', 'love', 'lives', 'fly', 'dies', 'watched', 'has', 'starting']\n",
      "Porter 어간 추출 후 : ['polici', 'do', 'organ', 'have', 'go', 'love', 'live', 'fli', 'die', 'watch', 'ha', 'start']\n",
      "Lancaster 어간 추출 후 : ['policy', 'doing', 'org', 'hav', 'going', 'lov', 'liv', 'fly', 'die', 'watch', 'has', 'start']\n"
     ]
    }
   ],
   "source": [
    "from nltk.stem import PorterStemmer\n",
    "from nltk.stem import LancasterStemmer\n",
    "\n",
    "porter_stemmer=PorterStemmer()\n",
    "lancaster_stemmer=LancasterStemmer()\n",
    "\n",
    "words=['policy', 'doing', 'organization', 'have', 'going', 'love', 'lives', 'fly', 'dies', 'watched', 'has', 'starting']\n",
    "print('어간 추출 전 :',words)\n",
    "print('Porter 어간 추출 후 :',[porter_stemmer.stem(word) for word in words])\n",
    "print('Lancaster 어간 추출 후 :',[lancaster_stemmer.stem(word) for word in words])"
   ]
  },
  {
   "cell_type": "markdown",
   "id": "612ca370",
   "metadata": {},
   "source": [
    "# 3. 한국어에서의 어간 추출\n",
    "5언 9품사  \n",
    "\n",
    "|**언**|**품사**|\n",
    "|:---|:---|\n",
    "|체언|명사, 대명사, 수사|\n",
    "|수식언|관형사, 부사|\n",
    "|관계언|조사|\n",
    "|독립언|감탄사|\n",
    "|**용언**|**동사, 형용사**|\n",
    "\n",
    "용언에 해당되는 동사와 형용사는 어간과 어미의 결합으로 구성된다.\n",
    "\n",
    "#### (1) 활용 (conjugation)\n",
    "활용 : 용언의 어간이 어미를 가지는 일\n",
    "**어간** : 용언을 활용할 때, 원칙적으로 모양이 변하지 않는 부분 ex) 긋다, 긋고, 그어서, 그어라\n",
    "**어미** : 용언의 어간 뒤에 붙어서 활용하면서 변하는 부분\n",
    "\n",
    "활용은 어간이 어미를 취할 때, 어간의 모습이 일정하다면 규칙 활용 , 어간이나 어미의 모습이 변하는 불규칙 활용으로 나뉜다.\n",
    "\n",
    "#### (2) 규칙 활용\n",
    "> 잡/어간 + 다/어미\n",
    "어간이 어미가 붙기전의 모습과 어미가 붙은 후의 모습이 같으므로, 규칙 기반으로 어미를 단순히 분리해주면 어간이 추출된다.\n",
    "\n",
    "#### (3) 불규칙 활용\n",
    "> '듣/들-, 돕/도우-,곱/고우-'와 같이 어간의 형식이 달라지는 일\n",
    "\n",
    "> '오르+아/어→올라, 하+아/어→하여, 이르+아/어→이르러'와 같이 일반적인 어미가 아닌 특수한 어미를 취하는 경우"
   ]
  },
  {
   "cell_type": "code",
   "execution_count": null,
   "id": "34fccd56",
   "metadata": {},
   "outputs": [],
   "source": []
  }
 ],
 "metadata": {
  "kernelspec": {
   "display_name": "Python 3 (ipykernel)",
   "language": "python",
   "name": "python3"
  },
  "language_info": {
   "codemirror_mode": {
    "name": "ipython",
    "version": 3
   },
   "file_extension": ".py",
   "mimetype": "text/x-python",
   "name": "python",
   "nbconvert_exporter": "python",
   "pygments_lexer": "ipython3",
   "version": "3.9.7"
  }
 },
 "nbformat": 4,
 "nbformat_minor": 5
}
