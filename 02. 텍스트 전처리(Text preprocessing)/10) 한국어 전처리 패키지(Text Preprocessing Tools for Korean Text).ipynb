{
 "cells": [
  {
   "cell_type": "markdown",
   "id": "79394369",
   "metadata": {},
   "source": [
    "- KoNLPy\n",
    "- KSS"
   ]
  },
  {
   "cell_type": "markdown",
   "id": "3d675bde",
   "metadata": {},
   "source": [
    "# 1. PyKoSpacing"
   ]
  },
  {
   "cell_type": "code",
   "execution_count": 1,
   "id": "b478dc99",
   "metadata": {},
   "outputs": [
    {
     "name": "stdout",
     "output_type": "stream",
     "text": [
      "Collecting git+https://github.com/haven-jeon/PyKoSpacing.gitNote: you may need to restart the kernel to use updated packages.\n"
     ]
    },
    {
     "name": "stderr",
     "output_type": "stream",
     "text": [
      "  Running command git clone --filter=blob:none -q https://github.com/haven-jeon/PyKoSpacing.git 'C:\\Users\\revie\\AppData\\Local\\Temp\\pip-req-build-6vszzdsg'\n"
     ]
    },
    {
     "name": "stdout",
     "output_type": "stream",
     "text": [
      "\n",
      "  Cloning https://github.com/haven-jeon/PyKoSpacing.git to c:\\users\\revie\\appdata\\local\\temp\\pip-req-build-6vszzdsg\n",
      "  Resolved https://github.com/haven-jeon/PyKoSpacing.git to commit f2febf985f256f4ebf169f4f78a765fef715d2cb\n",
      "  Preparing metadata (setup.py): started\n",
      "  Preparing metadata (setup.py): finished with status 'done'\n",
      "Requirement already satisfied: tensorflow==2.5.2 in c:\\users\\revie\\anaconda3\\lib\\site-packages (from pykospacing==0.5) (2.5.2)\n",
      "Requirement already satisfied: h5py==3.1.0 in c:\\users\\revie\\anaconda3\\lib\\site-packages (from pykospacing==0.5) (3.1.0)\n",
      "Collecting argparse>=1.4.0\n",
      "  Using cached argparse-1.4.0-py2.py3-none-any.whl (23 kB)\n",
      "Requirement already satisfied: numpy>=1.19.3 in c:\\users\\revie\\anaconda3\\lib\\site-packages (from h5py==3.1.0->pykospacing==0.5) (1.19.5)\n",
      "Requirement already satisfied: tensorboard~=2.5 in c:\\users\\revie\\anaconda3\\lib\\site-packages (from tensorflow==2.5.2->pykospacing==0.5) (2.7.0)\n",
      "Requirement already satisfied: tensorflow-estimator<2.6.0,>=2.5.0 in c:\\users\\revie\\anaconda3\\lib\\site-packages (from tensorflow==2.5.2->pykospacing==0.5) (2.5.0)\n",
      "Requirement already satisfied: grpcio~=1.34.0 in c:\\users\\revie\\anaconda3\\lib\\site-packages (from tensorflow==2.5.2->pykospacing==0.5) (1.34.1)\n",
      "Requirement already satisfied: termcolor~=1.1.0 in c:\\users\\revie\\anaconda3\\lib\\site-packages (from tensorflow==2.5.2->pykospacing==0.5) (1.1.0)\n",
      "Requirement already satisfied: flatbuffers~=1.12.0 in c:\\users\\revie\\anaconda3\\lib\\site-packages (from tensorflow==2.5.2->pykospacing==0.5) (1.12)\n",
      "Requirement already satisfied: six~=1.15.0 in c:\\users\\revie\\anaconda3\\lib\\site-packages (from tensorflow==2.5.2->pykospacing==0.5) (1.15.0)\n",
      "Requirement already satisfied: wrapt~=1.12.1 in c:\\users\\revie\\anaconda3\\lib\\site-packages (from tensorflow==2.5.2->pykospacing==0.5) (1.12.1)\n",
      "Requirement already satisfied: keras-nightly~=2.5.0.dev in c:\\users\\revie\\anaconda3\\lib\\site-packages (from tensorflow==2.5.2->pykospacing==0.5) (2.5.0.dev2021032900)\n",
      "Requirement already satisfied: typing-extensions~=3.7.4 in c:\\users\\revie\\anaconda3\\lib\\site-packages (from tensorflow==2.5.2->pykospacing==0.5) (3.7.4.3)\n",
      "Requirement already satisfied: keras-preprocessing~=1.1.2 in c:\\users\\revie\\anaconda3\\lib\\site-packages (from tensorflow==2.5.2->pykospacing==0.5) (1.1.2)\n",
      "Requirement already satisfied: astunparse~=1.6.3 in c:\\users\\revie\\anaconda3\\lib\\site-packages (from tensorflow==2.5.2->pykospacing==0.5) (1.6.3)\n",
      "Requirement already satisfied: absl-py~=0.10 in c:\\users\\revie\\anaconda3\\lib\\site-packages (from tensorflow==2.5.2->pykospacing==0.5) (0.15.0)\n",
      "Requirement already satisfied: protobuf>=3.9.2 in c:\\users\\revie\\anaconda3\\lib\\site-packages (from tensorflow==2.5.2->pykospacing==0.5) (3.19.1)\n",
      "Requirement already satisfied: gast==0.4.0 in c:\\users\\revie\\anaconda3\\lib\\site-packages (from tensorflow==2.5.2->pykospacing==0.5) (0.4.0)\n",
      "Requirement already satisfied: google-pasta~=0.2 in c:\\users\\revie\\anaconda3\\lib\\site-packages (from tensorflow==2.5.2->pykospacing==0.5) (0.2.0)\n",
      "Requirement already satisfied: opt-einsum~=3.3.0 in c:\\users\\revie\\anaconda3\\lib\\site-packages (from tensorflow==2.5.2->pykospacing==0.5) (3.3.0)\n",
      "Requirement already satisfied: wheel~=0.35 in c:\\users\\revie\\anaconda3\\lib\\site-packages (from tensorflow==2.5.2->pykospacing==0.5) (0.37.0)\n",
      "Requirement already satisfied: setuptools>=41.0.0 in c:\\users\\revie\\anaconda3\\lib\\site-packages (from tensorboard~=2.5->tensorflow==2.5.2->pykospacing==0.5) (58.0.4)\n",
      "Requirement already satisfied: google-auth<3,>=1.6.3 in c:\\users\\revie\\anaconda3\\lib\\site-packages (from tensorboard~=2.5->tensorflow==2.5.2->pykospacing==0.5) (2.3.3)\n",
      "Requirement already satisfied: requests<3,>=2.21.0 in c:\\users\\revie\\anaconda3\\lib\\site-packages (from tensorboard~=2.5->tensorflow==2.5.2->pykospacing==0.5) (2.26.0)\n",
      "Requirement already satisfied: tensorboard-data-server<0.7.0,>=0.6.0 in c:\\users\\revie\\anaconda3\\lib\\site-packages (from tensorboard~=2.5->tensorflow==2.5.2->pykospacing==0.5) (0.6.1)\n",
      "Requirement already satisfied: werkzeug>=0.11.15 in c:\\users\\revie\\anaconda3\\lib\\site-packages (from tensorboard~=2.5->tensorflow==2.5.2->pykospacing==0.5) (2.0.2)\n",
      "Requirement already satisfied: google-auth-oauthlib<0.5,>=0.4.1 in c:\\users\\revie\\anaconda3\\lib\\site-packages (from tensorboard~=2.5->tensorflow==2.5.2->pykospacing==0.5) (0.4.6)\n",
      "Requirement already satisfied: tensorboard-plugin-wit>=1.6.0 in c:\\users\\revie\\anaconda3\\lib\\site-packages (from tensorboard~=2.5->tensorflow==2.5.2->pykospacing==0.5) (1.8.0)\n",
      "Requirement already satisfied: markdown>=2.6.8 in c:\\users\\revie\\anaconda3\\lib\\site-packages (from tensorboard~=2.5->tensorflow==2.5.2->pykospacing==0.5) (3.3.6)\n",
      "Requirement already satisfied: cachetools<5.0,>=2.0.0 in c:\\users\\revie\\anaconda3\\lib\\site-packages (from google-auth<3,>=1.6.3->tensorboard~=2.5->tensorflow==2.5.2->pykospacing==0.5) (4.2.4)\n",
      "Requirement already satisfied: pyasn1-modules>=0.2.1 in c:\\users\\revie\\anaconda3\\lib\\site-packages (from google-auth<3,>=1.6.3->tensorboard~=2.5->tensorflow==2.5.2->pykospacing==0.5) (0.2.8)\n",
      "Requirement already satisfied: rsa<5,>=3.1.4 in c:\\users\\revie\\anaconda3\\lib\\site-packages (from google-auth<3,>=1.6.3->tensorboard~=2.5->tensorflow==2.5.2->pykospacing==0.5) (4.8)\n",
      "Requirement already satisfied: requests-oauthlib>=0.7.0 in c:\\users\\revie\\anaconda3\\lib\\site-packages (from google-auth-oauthlib<0.5,>=0.4.1->tensorboard~=2.5->tensorflow==2.5.2->pykospacing==0.5) (1.3.0)\n",
      "Requirement already satisfied: importlib-metadata>=4.4 in c:\\users\\revie\\anaconda3\\lib\\site-packages (from markdown>=2.6.8->tensorboard~=2.5->tensorflow==2.5.2->pykospacing==0.5) (4.8.1)\n",
      "Requirement already satisfied: urllib3<1.27,>=1.21.1 in c:\\users\\revie\\anaconda3\\lib\\site-packages (from requests<3,>=2.21.0->tensorboard~=2.5->tensorflow==2.5.2->pykospacing==0.5) (1.26.7)\n",
      "Requirement already satisfied: idna<4,>=2.5 in c:\\users\\revie\\anaconda3\\lib\\site-packages (from requests<3,>=2.21.0->tensorboard~=2.5->tensorflow==2.5.2->pykospacing==0.5) (3.2)\n",
      "Requirement already satisfied: charset-normalizer~=2.0.0 in c:\\users\\revie\\anaconda3\\lib\\site-packages (from requests<3,>=2.21.0->tensorboard~=2.5->tensorflow==2.5.2->pykospacing==0.5) (2.0.4)\n",
      "Requirement already satisfied: certifi>=2017.4.17 in c:\\users\\revie\\anaconda3\\lib\\site-packages (from requests<3,>=2.21.0->tensorboard~=2.5->tensorflow==2.5.2->pykospacing==0.5) (2021.10.8)\n",
      "Requirement already satisfied: zipp>=0.5 in c:\\users\\revie\\anaconda3\\lib\\site-packages (from importlib-metadata>=4.4->markdown>=2.6.8->tensorboard~=2.5->tensorflow==2.5.2->pykospacing==0.5) (3.6.0)\n",
      "Requirement already satisfied: pyasn1<0.5.0,>=0.4.6 in c:\\users\\revie\\anaconda3\\lib\\site-packages (from pyasn1-modules>=0.2.1->google-auth<3,>=1.6.3->tensorboard~=2.5->tensorflow==2.5.2->pykospacing==0.5) (0.4.8)\n",
      "Requirement already satisfied: oauthlib>=3.0.0 in c:\\users\\revie\\anaconda3\\lib\\site-packages (from requests-oauthlib>=0.7.0->google-auth-oauthlib<0.5,>=0.4.1->tensorboard~=2.5->tensorflow==2.5.2->pykospacing==0.5) (3.1.1)\n",
      "Installing collected packages: argparse\n",
      "Successfully installed argparse-1.4.0\n"
     ]
    }
   ],
   "source": [
    "pip install git+https://github.com/haven-jeon/PyKoSpacing.git"
   ]
  },
  {
   "cell_type": "code",
   "execution_count": 2,
   "id": "b7b397a8",
   "metadata": {},
   "outputs": [],
   "source": [
    "sent = '김철수는 극중 두 인격의 사나이 이광수 역을 맡았다. 철수는 한국 유일의 태권도 전승자를 가리는 결전의 날을 앞두고 10년간 함께 훈련한 사형인 유연재(김광수 분)를 찾으러 속세로 내려온 인물이다.'"
   ]
  },
  {
   "cell_type": "code",
   "execution_count": 3,
   "id": "aa6c3967",
   "metadata": {},
   "outputs": [
    {
     "name": "stdout",
     "output_type": "stream",
     "text": [
      "김철수는극중두인격의사나이이광수역을맡았다.철수는한국유일의태권도전승자를가리는결전의날을앞두고10년간함께훈련한사형인유연재(김광수분)를찾으러속세로내려온인물이다.\n"
     ]
    }
   ],
   "source": [
    "new_sent=sent.replace(' ','')\n",
    "print(new_sent)"
   ]
  },
  {
   "cell_type": "code",
   "execution_count": 4,
   "id": "1dd4386e",
   "metadata": {},
   "outputs": [
    {
     "name": "stdout",
     "output_type": "stream",
     "text": [
      "김철수는 극중 두 인격의 사나이 이광수 역을 맡았다. 철수는 한국 유일의 태권도 전승자를 가리는 결전의 날을 앞두고 10년간 함께 훈련한 사형인 유연재(김광수 분)를 찾으러 속세로 내려온 인물이다.\n",
      "김철수는 극중 두 인격의 사나이 이광수 역을 맡았다. 철수는 한국 유일의 태권도 전승자를 가리는 결전의 날을 앞두고 10년간 함께 훈련한 사형인 유연재(김광수 분)를 찾으러 속세로 내려온 인물이다.\n"
     ]
    }
   ],
   "source": [
    "from pykospacing import Spacing\n",
    "spacing=Spacing()\n",
    "kospacing_sent=spacing(new_sent)\n",
    "\n",
    "print(sent)\n",
    "print(kospacing_sent)"
   ]
  },
  {
   "cell_type": "code",
   "execution_count": 5,
   "id": "b14f7b13",
   "metadata": {},
   "outputs": [
    {
     "name": "stdout",
     "output_type": "stream",
     "text": [
      "Collecting git+https://github.com/ssut/py-hanspell.git\n",
      "  Cloning https://github.com/ssut/py-hanspell.git to c:\\users\\revie\\appdata\\local\\temp\\pip-req-build-8wxonoo2\n",
      "  Resolved https://github.com/ssut/py-hanspell.git to commit 8e993cf46f97f9d665c15633a0fc78ac1b727713\n",
      "  Preparing metadata (setup.py): started\n",
      "  Preparing metadata (setup.py): finished with status 'done'\n",
      "Requirement already satisfied: requests in c:\\users\\revie\\anaconda3\\lib\\site-packages (from py-hanspell==1.1) (2.26.0)\n",
      "Requirement already satisfied: urllib3<1.27,>=1.21.1 in c:\\users\\revie\\anaconda3\\lib\\site-packages (from requests->py-hanspell==1.1) (1.26.7)\n",
      "Requirement already satisfied: charset-normalizer~=2.0.0 in c:\\users\\revie\\anaconda3\\lib\\site-packages (from requests->py-hanspell==1.1) (2.0.4)\n",
      "Requirement already satisfied: idna<4,>=2.5 in c:\\users\\revie\\anaconda3\\lib\\site-packages (from requests->py-hanspell==1.1) (3.2)\n",
      "Requirement already satisfied: certifi>=2017.4.17 in c:\\users\\revie\\anaconda3\\lib\\site-packages (from requests->py-hanspell==1.1) (2021.10.8)\n",
      "Note: you may need to restart the kernel to use updated packages.\n"
     ]
    },
    {
     "name": "stderr",
     "output_type": "stream",
     "text": [
      "  Running command git clone --filter=blob:none -q https://github.com/ssut/py-hanspell.git 'C:\\Users\\revie\\AppData\\Local\\Temp\\pip-req-build-8wxonoo2'\n"
     ]
    }
   ],
   "source": [
    "pip install git+https://github.com/ssut/py-hanspell.git"
   ]
  },
  {
   "cell_type": "code",
   "execution_count": 6,
   "id": "bcb6af58",
   "metadata": {},
   "outputs": [
    {
     "name": "stdout",
     "output_type": "stream",
     "text": [
      "맞춤법 틀리면 왜 안돼? 쓰고 싶은 대로 쓰면 되지\n"
     ]
    }
   ],
   "source": [
    "from hanspell import spell_checker\n",
    "\n",
    "sent=\"맞춤법 틀리면 외 않되? 쓰고싶은대로쓰면돼지 \"\n",
    "spelled_sent=spell_checker.check(sent)\n",
    "\n",
    "hanspell_sent=spelled_sent.checked\n",
    "print(hanspell_sent)"
   ]
  },
  {
   "cell_type": "code",
   "execution_count": 7,
   "id": "26f7b244",
   "metadata": {},
   "outputs": [
    {
     "name": "stdout",
     "output_type": "stream",
     "text": [
      "김철수는 극 중 두 인격의 사나이 이광수 역을 맡았다. 철수는 한국 유일의 태권도 전승자를 가리는 결전의 날을 앞두고 10년간 함께 훈련한 사형인 유연제(김광수 분)를 찾으러 속세로 내려온 인물이다.\n",
      "김철수는 극중 두 인격의 사나이 이광수 역을 맡았다. 철수는 한국 유일의 태권도 전승자를 가리는 결전의 날을 앞두고 10년간 함께 훈련한 사형인 유연재(김광수 분)를 찾으러 속세로 내려온 인물이다.\n"
     ]
    }
   ],
   "source": [
    "spelled_sent=spell_checker.check(new_sent)\n",
    "\n",
    "hanspell_sent=spelled_sent.checked\n",
    "print(hanspell_sent)\n",
    "print(kospacing_sent)"
   ]
  },
  {
   "cell_type": "markdown",
   "id": "65cf76db",
   "metadata": {},
   "source": [
    "# 3. SOYNLP를 이용한 단어 토큰화"
   ]
  },
  {
   "cell_type": "code",
   "execution_count": 8,
   "id": "dd954054",
   "metadata": {},
   "outputs": [
    {
     "name": "stdout",
     "output_type": "stream",
     "text": [
      "Requirement already satisfied: soynlp in c:\\users\\revie\\anaconda3\\lib\\site-packages (0.0.493)Note: you may need to restart the kernel to use updated packages.\n",
      "Requirement already satisfied: numpy>=1.12.1 in c:\\users\\revie\\anaconda3\\lib\\site-packages (from soynlp) (1.19.5)\n",
      "Requirement already satisfied: scipy>=1.1.0 in c:\\users\\revie\\anaconda3\\lib\\site-packages (from soynlp) (1.7.1)\n",
      "\n",
      "Requirement already satisfied: scikit-learn>=0.20.0 in c:\\users\\revie\\anaconda3\\lib\\site-packages (from soynlp) (0.24.2)\n",
      "Requirement already satisfied: psutil>=5.0.1 in c:\\users\\revie\\anaconda3\\lib\\site-packages (from soynlp) (5.8.0)\n",
      "Requirement already satisfied: threadpoolctl>=2.0.0 in c:\\users\\revie\\anaconda3\\lib\\site-packages (from scikit-learn>=0.20.0->soynlp) (2.2.0)\n",
      "Requirement already satisfied: joblib>=0.11 in c:\\users\\revie\\anaconda3\\lib\\site-packages (from scikit-learn>=0.20.0->soynlp) (1.0.1)\n"
     ]
    }
   ],
   "source": [
    "pip install soynlp"
   ]
  },
  {
   "cell_type": "markdown",
   "id": "49d2e135",
   "metadata": {},
   "source": [
    "#### 1. 신조어 문제\n",
    "기존의 형태소 분석기는 신조어나 형태소 분석기에 등록되지 않은 단어 같은 경우에는 제대로 구분하지 못한다."
   ]
  },
  {
   "cell_type": "code",
   "execution_count": 9,
   "id": "efbd1735",
   "metadata": {},
   "outputs": [
    {
     "name": "stdout",
     "output_type": "stream",
     "text": [
      "['에이', '비식스', '이대', '휘', '1월', '최애', '돌', '기부', '요정']\n"
     ]
    }
   ],
   "source": [
    "from konlpy.tag import Okt\n",
    "tokenizer=Okt()\n",
    "print(tokenizer.morphs('에이비식스 이대휘 1월 최애돌 기부 요정'))"
   ]
  },
  {
   "cell_type": "markdown",
   "id": "1280c34e",
   "metadata": {},
   "source": [
    "텍스트 데이터에서 특정 문자 시퀀스가 함께 자주 등장하는 빈도가 높고 앞 뒤로 조사 또는 완전히 다른 단어가 등정하는 것을 고려해서 해당 문자 시퀀스를 형태소라고 판단하는 단어 토크나이저를 생각해보자"
   ]
  },
  {
   "cell_type": "markdown",
   "id": "865c8427",
   "metadata": {},
   "source": [
    "#### 2. 학습하기"
   ]
  },
  {
   "cell_type": "code",
   "execution_count": 10,
   "id": "0ee80b01",
   "metadata": {},
   "outputs": [],
   "source": [
    "import urllib.request\n",
    "from soynlp import DoublespaceLineCorpus\n",
    "from soynlp.word import WordExtractor"
   ]
  },
  {
   "cell_type": "code",
   "execution_count": 11,
   "id": "26fdbf20",
   "metadata": {},
   "outputs": [
    {
     "data": {
      "text/plain": [
       "('2016-10-20.txt', <http.client.HTTPMessage at 0x215ea994df0>)"
      ]
     },
     "execution_count": 11,
     "metadata": {},
     "output_type": "execute_result"
    }
   ],
   "source": [
    "urllib.request.urlretrieve(\"https://raw.githubusercontent.com/lovit/soynlp/master/tutorials/2016-10-20.txt\", filename=\"2016-10-20.txt\")"
   ]
  },
  {
   "cell_type": "code",
   "execution_count": 12,
   "id": "88c9296c",
   "metadata": {},
   "outputs": [
    {
     "data": {
      "text/plain": [
       "30091"
      ]
     },
     "execution_count": 12,
     "metadata": {},
     "output_type": "execute_result"
    }
   ],
   "source": [
    "corpus=DoublespaceLineCorpus('2016-10-20.txt')\n",
    "len(corpus)"
   ]
  },
  {
   "cell_type": "code",
   "execution_count": 13,
   "id": "ca7c579a",
   "metadata": {},
   "outputs": [
    {
     "name": "stdout",
     "output_type": "stream",
     "text": [
      "19  1990  52 1 22\n",
      "오패산터널 총격전 용의자 검거 서울 연합뉴스 경찰 관계자들이 19일 오후 서울 강북구 오패산 터널 인근에서 사제 총기를 발사해 경찰을 살해한 용의자 성모씨를 검거하고 있다 성씨는 검거 당시 서바이벌 게임에서 쓰는 방탄조끼에 헬멧까지 착용한 상태였다 독자제공 영상 캡처 연합뉴스  서울 연합뉴스 김은경 기자 사제 총기로 경찰을 살해한 범인 성모 46 씨는 주도면밀했다  경찰에 따르면 성씨는 19일 오후 강북경찰서 인근 부동산 업소 밖에서 부동산업자 이모 67 씨가 나오기를 기다렸다 이씨와는 평소에도 말다툼을 자주 한 것으로 알려졌다  이씨가 나와 걷기 시작하자 성씨는 따라가면서 미리 준비해온 사제 총기를 이씨에게 발사했다 총알이 빗나가면서 이씨는 도망갔다 그 빗나간 총알은 지나가던 행인 71 씨의 배를 스쳤다  성씨는 강북서 인근 치킨집까지 이씨 뒤를 쫓으며 실랑이하다 쓰러뜨린 후 총기와 함께 가져온 망치로 이씨 머리를 때렸다  이 과정에서 오후 6시 20분께 강북구 번동 길 위에서 사람들이 싸우고 있다 총소리가 났다 는 등의 신고가 여러건 들어왔다  5분 후에 성씨의 전자발찌가 훼손됐다는 신고가 보호관찰소 시스템을 통해 들어왔다 성범죄자로 전자발찌를 차고 있던 성씨는 부엌칼로 직접 자신의 발찌를 끊었다  용의자 소지 사제총기 2정 서울 연합뉴스 임헌정 기자 서울 시내에서 폭행 용의자가 현장 조사를 벌이던 경찰관에게 사제총기를 발사해 경찰관이 숨졌다 19일 오후 6시28분 강북구 번동에서 둔기로 맞았다 는 폭행 피해 신고가 접수돼 현장에서 조사하던 강북경찰서 번동파출소 소속 김모 54 경위가 폭행 용의자 성모 45 씨가 쏜 사제총기에 맞고 쓰러진 뒤 병원에 옮겨졌으나 숨졌다 사진은 용의자가 소지한 사제총기  신고를 받고 번동파출소에서 김창호 54 경위 등 경찰들이 오후 6시 29분께 현장으로 출동했다 성씨는 그사이 부동산 앞에 놓아뒀던 가방을 챙겨 오패산 쪽으로 도망간 후였다  김 경위는 오패산 터널 입구 오른쪽의 급경사에서 성씨에게 접근하다가 오후 6시 33분께 풀숲에 숨은 성씨가 허공에 난사한 10여발의 총알 중 일부를 왼쪽 어깨 뒷부분에 맞고 쓰러졌다  김 경위는 구급차가 도착했을 때 이미 의식이 없었고 심폐소생술을 하며 병원으로 옮겨졌으나 총알이 폐를 훼손해 오후 7시 40분께 사망했다  김 경위는 외근용 조끼를 입고 있었으나 총알을 막기에는 역부족이었다  머리에 부상을 입은 이씨도 함께 병원으로 이송됐으나 생명에는 지장이 없는 것으로 알려졌다  성씨는 오패산 터널 밑쪽 숲에서 오후 6시 45분께 잡혔다  총격현장 수색하는 경찰들 서울 연합뉴스 이효석 기자 19일 오후 서울 강북구 오패산 터널 인근에서 경찰들이 폭행 용의자가 사제총기를 발사해 경찰관이 사망한 사건을 조사 하고 있다  총 때문에 쫓던 경관들과 민간인들이 몸을 숨겼는데 인근 신발가게 직원 이모씨가 다가가 성씨를 덮쳤고 이어 현장에 있던 다른 상인들과 경찰이 가세해 체포했다  성씨는 경찰에 붙잡힌 직후 나 자살하려고 한 거다 맞아 죽어도 괜찮다 고 말한 것으로 전해졌다  성씨 자신도 경찰이 발사한 공포탄 1발 실탄 3발 중 실탄 1발을 배에 맞았으나 방탄조끼를 입은 상태여서 부상하지는 않았다  경찰은 인근을 수색해 성씨가 만든 사제총 16정과 칼 7개를 압수했다 실제 폭발할지는 알 수 없는 요구르트병에 무언가를 채워두고 심지를 꽂은 사제 폭탄도 발견됐다  일부는 숲에서 발견됐고 일부는 성씨가 소지한 가방 안에 있었다\n",
      "테헤란 연합뉴스 강훈상 특파원 이용 승객수 기준 세계 최대 공항인 아랍에미리트 두바이국제공항은 19일 현지시간 이 공항을 이륙하는 모든 항공기의 탑승객은 삼성전자의 갤럭시노트7을 휴대하면 안 된다고 밝혔다  두바이국제공항은 여러 항공 관련 기구의 권고에 따라 안전성에 우려가 있는 스마트폰 갤럭시노트7을 휴대하고 비행기를 타면 안 된다 며 탑승 전 검색 중 발견되면 압수할 계획 이라고 발표했다  공항 측은 갤럭시노트7의 배터리가 폭발 우려가 제기된 만큼 이 제품을 갖고 공항 안으로 들어오지 말라고 이용객에 당부했다  이런 조치는 두바이국제공항 뿐 아니라 신공항인 두바이월드센터에도 적용된다  배터리 폭발문제로 회수된 갤럭시노트7 연합뉴스자료사진\n"
     ]
    }
   ],
   "source": [
    "i=0\n",
    "for document in corpus:\n",
    "    if len(document)>0:\n",
    "        print(document)\n",
    "        i+=1\n",
    "    if i==3:\n",
    "        break"
   ]
  },
  {
   "cell_type": "code",
   "execution_count": 14,
   "id": "7c39fabd",
   "metadata": {},
   "outputs": [
    {
     "name": "stdout",
     "output_type": "stream",
     "text": [
      "training was done. used memory 1.117 Gb\n",
      "all cohesion probabilities was computed. # words = 223348\n",
      "all branching entropies was computed # words = 361598\n",
      "all accessor variety was computed # words = 361598\n"
     ]
    }
   ],
   "source": [
    "word_extractor=WordExtractor()\n",
    "word_extractor.train(corpus)\n",
    "word_score_table=word_extractor.extract()"
   ]
  },
  {
   "cell_type": "markdown",
   "id": "be275c65",
   "metadata": {},
   "source": [
    "#### 3. SOYNLP의 응집 확률(cohesion probability)\n",
    "응집 확률 : 내부 문자열이 얼마나 응집하여 자주 등장하는지를 판단하는 척도\n",
    "- 문자열을 문자 단위로 분리하여 내부 문자열을 만드는 과정에서 왼쪽부터 순서대로 문자를 추가하면서 각 문자열이 주어졌을 때 그 다음 문자가 나올 확률을 계산하여 누적곱을 한 값\n",
    "- 높을수록 전체 코퍼스에서 이 문자열 시퀀스는 하나의 단어로 등장할 가능성 높음"
   ]
  },
  {
   "cell_type": "code",
   "execution_count": 15,
   "id": "16aed47b",
   "metadata": {},
   "outputs": [
    {
     "data": {
      "text/plain": [
       "0.08838002913645132"
      ]
     },
     "execution_count": 15,
     "metadata": {},
     "output_type": "execute_result"
    }
   ],
   "source": [
    "word_score_table['반포한'].cohesion_forward"
   ]
  },
  {
   "cell_type": "code",
   "execution_count": 16,
   "id": "cedf8fac",
   "metadata": {},
   "outputs": [
    {
     "data": {
      "text/plain": [
       "0.19841268168224552"
      ]
     },
     "execution_count": 16,
     "metadata": {},
     "output_type": "execute_result"
    }
   ],
   "source": [
    "word_score_table['반포한강'].cohesion_forward"
   ]
  },
  {
   "cell_type": "code",
   "execution_count": 17,
   "id": "d49308bf",
   "metadata": {},
   "outputs": [
    {
     "data": {
      "text/plain": [
       "0.2972877884078849"
      ]
     },
     "execution_count": 17,
     "metadata": {},
     "output_type": "execute_result"
    }
   ],
   "source": [
    "word_score_table['반포한강공'].cohesion_forward"
   ]
  },
  {
   "cell_type": "code",
   "execution_count": 18,
   "id": "1d5f5b9b",
   "metadata": {},
   "outputs": [
    {
     "data": {
      "text/plain": [
       "0.37891487632839754"
      ]
     },
     "execution_count": 18,
     "metadata": {},
     "output_type": "execute_result"
    }
   ],
   "source": [
    "word_score_table['반포한강공원'].cohesion_forward"
   ]
  },
  {
   "cell_type": "code",
   "execution_count": 19,
   "id": "74eb9d65",
   "metadata": {},
   "outputs": [
    {
     "data": {
      "text/plain": [
       "0.33492963377557666"
      ]
     },
     "execution_count": 19,
     "metadata": {},
     "output_type": "execute_result"
    }
   ],
   "source": [
    "word_score_table['반포한강공원에'].cohesion_forward"
   ]
  },
  {
   "cell_type": "markdown",
   "id": "d443a68a",
   "metadata": {},
   "source": [
    "결합도는 '반포항강공원'일 때가 가장 높다 → 응집도를 통해 판단하기에 하나의 단어로 가장 적합한 문자열"
   ]
  },
  {
   "cell_type": "markdown",
   "id": "4fd27b87",
   "metadata": {},
   "source": [
    "#### 4. SOYNLP의 브랜칭 엔트로피(branching entropy)\n",
    "Branching Entropy : 확률 분포의 엔트로피값을 사용, 주어진 문자열에서 얼마나 다음 문자가 등장할 수 있는지를 판단하는 척도"
   ]
  },
  {
   "cell_type": "code",
   "execution_count": 20,
   "id": "8d63be10",
   "metadata": {},
   "outputs": [
    {
     "data": {
      "text/plain": [
       "1.6371694761537934"
      ]
     },
     "execution_count": 20,
     "metadata": {},
     "output_type": "execute_result"
    }
   ],
   "source": [
    "word_score_table['디스'].right_branching_entropy"
   ]
  },
  {
   "cell_type": "code",
   "execution_count": 21,
   "id": "8fbc8367",
   "metadata": {},
   "outputs": [
    {
     "data": {
      "text/plain": [
       "-0.0"
      ]
     },
     "execution_count": 21,
     "metadata": {},
     "output_type": "execute_result"
    }
   ],
   "source": [
    "word_score_table['디스플'].right_branching_entropy"
   ]
  },
  {
   "cell_type": "markdown",
   "id": "8322813f",
   "metadata": {},
   "source": [
    "'디스' 다음에는 다양한 문자가 올 수 있으므로 1.63이라는 값을 가지는 반면, '디스플'이라는 문자열 다음에는 '레'가 오는 것이 명백하기 때문에 0이란 값을 가진다."
   ]
  },
  {
   "cell_type": "code",
   "execution_count": 22,
   "id": "adace926",
   "metadata": {},
   "outputs": [
    {
     "data": {
      "text/plain": [
       "-0.0"
      ]
     },
     "execution_count": 22,
     "metadata": {},
     "output_type": "execute_result"
    }
   ],
   "source": [
    "word_score_table['디스플레'].right_branching_entropy"
   ]
  },
  {
   "cell_type": "code",
   "execution_count": 23,
   "id": "9e50eab4",
   "metadata": {},
   "outputs": [
    {
     "data": {
      "text/plain": [
       "3.1400392861792916"
      ]
     },
     "execution_count": 23,
     "metadata": {},
     "output_type": "execute_result"
    }
   ],
   "source": [
    "word_score_table['디스플레이'].right_branching_entropy"
   ]
  },
  {
   "cell_type": "markdown",
   "id": "7985ac2c",
   "metadata": {},
   "source": [
    "'디스플레이'라는 문자 시퀀스 다음에는 조사나 다른 단어와 같은 다양한 경우가 있을 수 있기 때문에 증가한다.이는 하나의 단어가 끝나면 그 경계 부분부터 다시 브랜칭 엔트로피 값이 증가하게 됨을 의미한다."
   ]
  },
  {
   "cell_type": "markdown",
   "id": "7c074607",
   "metadata": {},
   "source": [
    "#### 5. SOTNLP의 L tokenizer"
   ]
  },
  {
   "cell_type": "code",
   "execution_count": 24,
   "id": "2d862350",
   "metadata": {},
   "outputs": [
    {
     "data": {
      "text/plain": [
       "[('국제사회', '와'), ('우리', '의'), ('노력', '들로'), ('범죄', '를'), ('척결', '하자')]"
      ]
     },
     "execution_count": 24,
     "metadata": {},
     "output_type": "execute_result"
    }
   ],
   "source": [
    "from soynlp.tokenizer import LTokenizer\n",
    "\n",
    "scores={word:score.cohesion_forward for word, score in word_score_table.items()}\n",
    "l_tokenizer=LTokenizer(scores=scores)\n",
    "l_tokenizer.tokenize(\"국제사회와 우리의 노력들로 범죄를 척결하자\", flatten=False)"
   ]
  },
  {
   "cell_type": "markdown",
   "id": "c76efc1d",
   "metadata": {},
   "source": [
    "#### 6. 최대 점수 토크나이저\n",
    "최대 점수 토크나이저 : 띄어쓰기가 되지 않는 문장에서 점수가 높은 글자 시퀀스를 순차적으로 찾아내는 토크나이저"
   ]
  },
  {
   "cell_type": "code",
   "execution_count": 25,
   "id": "a67d6247",
   "metadata": {},
   "outputs": [
    {
     "data": {
      "text/plain": [
       "['국제사회', '와', '우리', '의', '노력', '들로', '범죄', '를', '척결', '하자']"
      ]
     },
     "execution_count": 25,
     "metadata": {},
     "output_type": "execute_result"
    }
   ],
   "source": [
    "from soynlp.tokenizer import MaxScoreTokenizer\n",
    "\n",
    "maxscore_tokenizer=MaxScoreTokenizer(scores=scores)\n",
    "maxscore_tokenizer.tokenize(\"국제사회와우리의노력들로범죄를척결하자\")"
   ]
  },
  {
   "cell_type": "markdown",
   "id": "e0609b6e",
   "metadata": {},
   "source": [
    "# 4. SOYNLP를 이용한 반복되는 문자 정제"
   ]
  },
  {
   "cell_type": "code",
   "execution_count": 26,
   "id": "5119193b",
   "metadata": {},
   "outputs": [],
   "source": [
    "from soynlp.normalizer import *"
   ]
  },
  {
   "cell_type": "code",
   "execution_count": 27,
   "id": "42ea9faf",
   "metadata": {},
   "outputs": [
    {
     "name": "stdout",
     "output_type": "stream",
     "text": [
      "아ㅋㅋ영화존잼쓰ㅠㅠ\n",
      "아ㅋㅋ영화존잼쓰ㅠㅠ\n"
     ]
    }
   ],
   "source": [
    "print(emoticon_normalize('앜ㅋㅋㅋㅋ이영화존잼쓰ㅠㅠㅠㅠㅠ', num_repeats=2))\n",
    "print(emoticon_normalize('앜ㅋㅋㅋㅋㅋㅋㅋㅋㅋ이영화존잼쓰ㅠㅠㅠㅠ', num_repeats=2))"
   ]
  },
  {
   "cell_type": "code",
   "execution_count": 28,
   "id": "6f57df79",
   "metadata": {},
   "outputs": [
    {
     "name": "stdout",
     "output_type": "stream",
     "text": [
      "와하하핫\n",
      "와하하핫\n"
     ]
    }
   ],
   "source": [
    "print(repeat_normalize('와하하하하하하하하하핫', num_repeats=2))\n",
    "print(repeat_normalize('와하하하하하하핫', num_repeats=2))"
   ]
  },
  {
   "cell_type": "markdown",
   "id": "4723c4dc",
   "metadata": {},
   "source": [
    "# 5. Customized KoNLPy"
   ]
  },
  {
   "cell_type": "code",
   "execution_count": 29,
   "id": "6c056e87",
   "metadata": {},
   "outputs": [
    {
     "name": "stdout",
     "output_type": "stream",
     "text": [
      "Requirement already satisfied: customized_konlpy in c:\\users\\revie\\anaconda3\\lib\\site-packages (0.0.64)\n",
      "Requirement already satisfied: konlpy>=0.4.4 in c:\\users\\revie\\anaconda3\\lib\\site-packages (from customized_konlpy) (0.6.0)\n",
      "Requirement already satisfied: Jpype1>=0.6.1 in c:\\users\\revie\\anaconda3\\lib\\site-packages (from customized_konlpy) (1.3.0)\n",
      "Requirement already satisfied: numpy>=1.6 in c:\\users\\revie\\anaconda3\\lib\\site-packages (from konlpy>=0.4.4->customized_konlpy) (1.19.5)\n",
      "Requirement already satisfied: lxml>=4.1.0 in c:\\users\\revie\\anaconda3\\lib\\site-packages (from konlpy>=0.4.4->customized_konlpy) (4.6.3)\n",
      "Note: you may need to restart the kernel to use updated packages.\n"
     ]
    }
   ],
   "source": [
    "pip install customized_konlpy"
   ]
  },
  {
   "cell_type": "code",
   "execution_count": 30,
   "id": "b13cf68a",
   "metadata": {},
   "outputs": [
    {
     "name": "stderr",
     "output_type": "stream",
     "text": [
      "C:\\Users\\revie\\anaconda3\\lib\\site-packages\\konlpy\\tag\\_okt.py:17: UserWarning: \"Twitter\" has changed to \"Okt\" since KoNLPy v0.4.5.\n",
      "  warn('\"Twitter\" has changed to \"Okt\" since KoNLPy v0.4.5.')\n"
     ]
    },
    {
     "data": {
      "text/plain": [
       "['은', '경이', '는', '사무실', '로', '갔습니다', '.']"
      ]
     },
     "execution_count": 30,
     "metadata": {},
     "output_type": "execute_result"
    }
   ],
   "source": [
    "from ckonlpy.tag import Twitter\n",
    "twitter=Twitter()\n",
    "twitter.morphs('은경이는 사무실로 갔습니다.')"
   ]
  },
  {
   "cell_type": "markdown",
   "id": "3443946f",
   "metadata": {},
   "source": [
    "'은경이라는 단어가 '은','경이'와 같이 분리된다. → 형대소 분석기 Twitter에 사전 추가를 해준다."
   ]
  },
  {
   "cell_type": "code",
   "execution_count": 31,
   "id": "c030581b",
   "metadata": {},
   "outputs": [],
   "source": [
    "twitter.add_dictionary('은경이','Noun')"
   ]
  },
  {
   "cell_type": "code",
   "execution_count": 32,
   "id": "fe697385",
   "metadata": {},
   "outputs": [
    {
     "data": {
      "text/plain": [
       "['은경이', '는', '사무실', '로', '갔습니다', '.']"
      ]
     },
     "execution_count": 32,
     "metadata": {},
     "output_type": "execute_result"
    }
   ],
   "source": [
    "twitter.morphs('은경이는 사무실로 갔습니다.')"
   ]
  }
 ],
 "metadata": {
  "kernelspec": {
   "display_name": "Python 3 (ipykernel)",
   "language": "python",
   "name": "python3"
  },
  "language_info": {
   "codemirror_mode": {
    "name": "ipython",
    "version": 3
   },
   "file_extension": ".py",
   "mimetype": "text/x-python",
   "name": "python",
   "nbconvert_exporter": "python",
   "pygments_lexer": "ipython3",
   "version": "3.9.7"
  }
 },
 "nbformat": 4,
 "nbformat_minor": 5
}
