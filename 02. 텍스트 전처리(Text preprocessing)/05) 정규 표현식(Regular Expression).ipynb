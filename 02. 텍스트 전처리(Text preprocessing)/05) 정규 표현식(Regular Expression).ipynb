{
 "cells": [
  {
   "cell_type": "markdown",
   "id": "5eb3a8c2",
   "metadata": {},
   "source": [
    "# 1. 정규 표현식 문법과 모듈 함수\n",
    "파이썬에서는 정규 표현식 모듈 re을 지원하므로, 이를 이용하면 특정 규칙이 있는 텍스트 데이터를 빠르게 정제할 수 있습니다.\n",
    "\n",
    "#### 1) 정규 표현식 문법\n",
    "\n",
    "|특수문자|설명|\n",
    "|:---|:---|\n",
    "|.|한 개의 임의의 문자(줄바꿈 문자인 \\n는 제외)|\n",
    "|?|앞의 문자가 존재할 수도 있고, 존재하지 않을 수도 있습니다. (문자가 0개 또는 1개)|\n",
    "|*|앞의 문자가 무한개로 존재할 수도 있고, 존재하지 않을 수도 있습니다. (문자가 0개 이상)|\n",
    "|+|\t앞의 문자가 최소 한 개 이상 존재합니다. (문자가 1개 이상)|\n",
    "|^|뒤의 문자열로 문자열이 시작됩니다.|\n",
    "|$|앞의 문자열로 문자열이 끝납니다.|\n",
    "|{숫자}|숫자만큼 반복|\n",
    "|{숫자1, 숫자2}|숫자1 이상 숫자2 이하만큼 반복.?.*,+를 이것으로 대체 가능|\n",
    "|{숫자, }|숫자 이상만큼 반복|\n",
    "|[]|대괄호 안의 문자들 중 한 개의 문자와 매치합니다. [amk]라고 한다면 a 또는 m 또는 k 중 하나라도 존재하면 매치를 의미합니다. [a-z]와 같이 범위를 지정할 수도 있습니다. [a-zA-Z]는 알파벳 전체를 의미하는 범위이며, 문자열에 알파벳이 존재하면 매치를 의미합니다.|\n",
    "|[^문자]|해당 문자를 제외한 문자를 매치|\n",
    "|\\||A\\|B와 같이 쓰이며 A 또는 B의 의미|\n",
    "\n",
    "|문자 규칙|설명|\n",
    "|:---|:---|\n",
    "|\\\\|역 슬래쉬 문자 자체|\n",
    "|\\d|모든 숫자, [0-9]와 동일|\n",
    "|\\D|숫자를 제외한 모든 문자, [^0-9]와 동일|\n",
    "|\\s|공백 [\\t\\n\\r\\f\\v]와 동일|\n",
    "|\\S|공백을 제외한 문자, [^\\t\\n\\r\\f\\v]와 동일|\n",
    "|\\w|문자 또는 숫자 의미, [a-zA-Z0-9]와 동일|\n",
    "|\\W|문자 또는 숫자가 아닌 문자, [^a-zA-Z0-9]와 동일|\n",
    "\n",
    "#### 2) 정규 모듈식 함수\n",
    "|모듈 함수|설명|\n",
    "|:---|:---|\n",
    "|re.compile()|정규표현식을 컴파일하는 함수입니다. 다시 말해, 파이썬에게 전해주는 역할을 합니다. 찾고자 하는 패턴이 빈번한 경우에는 미리 컴파일해놓고 사용하면 속도와 편의성면에서 유리합니다.|\n",
    "|re.search()|문자열 전체에 대해서 정규표현식과 매치되는지를 검색합니다.|\n",
    "|re.match()|문자열의 처음이 정규표현식과 매치되는지를 검색합니다.|\n",
    "|re.split()|정규 표현식을 기준으로 문자열을 분리하여 리스트로 리턴합니다.|\n",
    "|re.findall()|문자열에서 정규 표현식과 매치되는 모든 경우의 문자열을 찾아서 리스트로 리턴합니다. 만약, 매치되는 문자열이 없다면 빈 리스트가 리턴됩니다.|\n",
    "|re.finditer()|문자열에서 정규 표현식과 매치되는 모든 경우의 문자열에 대한 이터레이터 객체를 리턴합니다.|\n",
    "|re.sub()|문자열에서 정규 표현식과 일치하는 부분에 대해서 다른 문자열로 대체합니다.|"
   ]
  },
  {
   "cell_type": "markdown",
   "id": "b6b1270e",
   "metadata": {},
   "source": [
    "# 2. 정규 표현식 실습"
   ]
  },
  {
   "cell_type": "code",
   "execution_count": 1,
   "id": "38bb66c5",
   "metadata": {},
   "outputs": [],
   "source": [
    "import re"
   ]
  },
  {
   "cell_type": "markdown",
   "id": "03781564",
   "metadata": {},
   "source": [
    "#### 1) .기호\n",
    ". : 한개의 임의의 문자  \n",
    "정규표현식 : a.c → a와 c 사이에는 어떤 1개의 문자라도 올 수 있다."
   ]
  },
  {
   "cell_type": "code",
   "execution_count": 2,
   "id": "3100b17b",
   "metadata": {},
   "outputs": [],
   "source": [
    "r=re.compile('a.c')\n",
    "r.search('kkk')"
   ]
  },
  {
   "cell_type": "code",
   "execution_count": 3,
   "id": "b01f7ba5",
   "metadata": {},
   "outputs": [
    {
     "data": {
      "text/plain": [
       "<re.Match object; span=(0, 3), match='abc'>"
      ]
     },
     "execution_count": 3,
     "metadata": {},
     "output_type": "execute_result"
    }
   ],
   "source": [
    "r.search('abc')"
   ]
  },
  {
   "cell_type": "markdown",
   "id": "cb8fe145",
   "metadata": {},
   "source": [
    "#### 2) ?기호\n",
    "? : 앞에 문자가 존재할 수 있고 존재하지 않을 수도 있는 겨우  \n",
    "정규표현식 : ab?c → abc, ac"
   ]
  },
  {
   "cell_type": "code",
   "execution_count": 4,
   "id": "37a89c6d",
   "metadata": {},
   "outputs": [],
   "source": [
    "r=re.compile('ab?c')\n",
    "r.search('abbc')"
   ]
  },
  {
   "cell_type": "code",
   "execution_count": 5,
   "id": "fbdb8c63",
   "metadata": {},
   "outputs": [
    {
     "data": {
      "text/plain": [
       "<re.Match object; span=(0, 3), match='abc'>"
      ]
     },
     "execution_count": 5,
     "metadata": {},
     "output_type": "execute_result"
    }
   ],
   "source": [
    "r.search('abc')"
   ]
  },
  {
   "cell_type": "code",
   "execution_count": 6,
   "id": "0b06a248",
   "metadata": {},
   "outputs": [
    {
     "data": {
      "text/plain": [
       "<re.Match object; span=(0, 2), match='ac'>"
      ]
     },
     "execution_count": 6,
     "metadata": {},
     "output_type": "execute_result"
    }
   ],
   "source": [
    "r.search('ac')"
   ]
  },
  {
   "cell_type": "markdown",
   "id": "de08c841",
   "metadata": {},
   "source": [
    "#### 3) *기호\n",
    "\\* : 앞의 문자가 0개 이상  \n",
    "정규표현식 : ab*c → ac, abc, abbc, ..."
   ]
  },
  {
   "cell_type": "code",
   "execution_count": 7,
   "id": "3c83c0db",
   "metadata": {},
   "outputs": [],
   "source": [
    "r=re.compile('ab*c')\n",
    "r.search('a')"
   ]
  },
  {
   "cell_type": "code",
   "execution_count": 8,
   "id": "793c13cf",
   "metadata": {},
   "outputs": [
    {
     "data": {
      "text/plain": [
       "<re.Match object; span=(0, 2), match='ac'>"
      ]
     },
     "execution_count": 8,
     "metadata": {},
     "output_type": "execute_result"
    }
   ],
   "source": [
    "r.search('ac')"
   ]
  },
  {
   "cell_type": "code",
   "execution_count": 9,
   "id": "a41960d9",
   "metadata": {},
   "outputs": [
    {
     "data": {
      "text/plain": [
       "<re.Match object; span=(0, 3), match='abc'>"
      ]
     },
     "execution_count": 9,
     "metadata": {},
     "output_type": "execute_result"
    }
   ],
   "source": [
    "r.search('abc')"
   ]
  },
  {
   "cell_type": "code",
   "execution_count": 12,
   "id": "4abc99b9",
   "metadata": {},
   "outputs": [
    {
     "data": {
      "text/plain": [
       "<re.Match object; span=(0, 7), match='abbbbbc'>"
      ]
     },
     "execution_count": 12,
     "metadata": {},
     "output_type": "execute_result"
    }
   ],
   "source": [
    "r.search('abbbbbc')"
   ]
  },
  {
   "cell_type": "markdown",
   "id": "eb6fbcec",
   "metadata": {},
   "source": [
    "#### 4) +기호\n",
    "\\+ : 앞의 문자가 최소 1개 이상  \n",
    "정규 표현식 : ab+c → abc, abbc, abbc, ..."
   ]
  },
  {
   "cell_type": "code",
   "execution_count": 13,
   "id": "07f9ff43",
   "metadata": {},
   "outputs": [],
   "source": [
    "r=re.compile('ab+c')\n",
    "r.search('ac')"
   ]
  },
  {
   "cell_type": "code",
   "execution_count": 14,
   "id": "81a9a7f6",
   "metadata": {},
   "outputs": [
    {
     "data": {
      "text/plain": [
       "<re.Match object; span=(0, 3), match='abc'>"
      ]
     },
     "execution_count": 14,
     "metadata": {},
     "output_type": "execute_result"
    }
   ],
   "source": [
    "r.search('abc')"
   ]
  },
  {
   "cell_type": "code",
   "execution_count": 15,
   "id": "6389e75d",
   "metadata": {},
   "outputs": [
    {
     "data": {
      "text/plain": [
       "<re.Match object; span=(0, 6), match='abbbbc'>"
      ]
     },
     "execution_count": 15,
     "metadata": {},
     "output_type": "execute_result"
    }
   ],
   "source": [
    "r.search('abbbbc')"
   ]
  },
  {
   "cell_type": "markdown",
   "id": "1a85364c",
   "metadata": {},
   "source": [
    "#### 5) ^기호\n",
    "^ : 뒤의 문자로 시작되는 문자열\n",
    "정규 표현식  : ^ab → ab로 시작되는 경우"
   ]
  },
  {
   "cell_type": "code",
   "execution_count": 16,
   "id": "e2023b09",
   "metadata": {},
   "outputs": [],
   "source": [
    "r=re.compile('^ab')\n",
    "r.search('bbc')\n",
    "r.search('zab')"
   ]
  },
  {
   "cell_type": "code",
   "execution_count": 17,
   "id": "6a9f8cd0",
   "metadata": {},
   "outputs": [
    {
     "data": {
      "text/plain": [
       "<re.Match object; span=(0, 2), match='ab'>"
      ]
     },
     "execution_count": 17,
     "metadata": {},
     "output_type": "execute_result"
    }
   ],
   "source": [
    "r.search('abz')"
   ]
  },
  {
   "cell_type": "markdown",
   "id": "2a6cb338",
   "metadata": {},
   "source": [
    "#### 6) {숫자} 기호\n",
    "{숫자} : 해당 문자를 숫자만큼 반복한 것  \n",
    "정규 표현식 : ab{2}c → abbc"
   ]
  },
  {
   "cell_type": "code",
   "execution_count": 18,
   "id": "3732c773",
   "metadata": {},
   "outputs": [],
   "source": [
    "r=re.compile('ab{2}c')\n",
    "\n",
    "r.search('ac')\n",
    "r.search('abc')\n",
    "r.search('abbbc')"
   ]
  },
  {
   "cell_type": "code",
   "execution_count": 19,
   "id": "c9feeb09",
   "metadata": {},
   "outputs": [
    {
     "data": {
      "text/plain": [
       "<re.Match object; span=(0, 4), match='abbc'>"
      ]
     },
     "execution_count": 19,
     "metadata": {},
     "output_type": "execute_result"
    }
   ],
   "source": [
    "r.search('abbc')"
   ]
  },
  {
   "cell_type": "markdown",
   "id": "949587ce",
   "metadata": {},
   "source": [
    "#### 7) {숫자1, 숫자2} 기호\n",
    "{숫자1, 숫자2} : 해당 문자를 숫자1 이상 숫자2 이하만큼 반복  \n",
    "정규 표현식 : ab{2,8}c → a와 c 상에 b가 2개 이상 8개 이하 존재하는 경우"
   ]
  },
  {
   "cell_type": "code",
   "execution_count": 27,
   "id": "49fdede7",
   "metadata": {},
   "outputs": [],
   "source": [
    "r = re.compile(\"ab{2,8}c\")\n",
    "\n",
    "r.search('ac')\n",
    "r.search('abc')\n",
    "r.search('abbbbbbbbbbbbbbbbc')"
   ]
  },
  {
   "cell_type": "code",
   "execution_count": 28,
   "id": "3731fc5e",
   "metadata": {},
   "outputs": [
    {
     "data": {
      "text/plain": [
       "<re.Match object; span=(0, 5), match='abbbc'>"
      ]
     },
     "execution_count": 28,
     "metadata": {},
     "output_type": "execute_result"
    }
   ],
   "source": [
    "r.search('abbbc')"
   ]
  },
  {
   "cell_type": "code",
   "execution_count": 29,
   "id": "5bde1d73",
   "metadata": {},
   "outputs": [
    {
     "data": {
      "text/plain": [
       "<re.Match object; span=(0, 8), match='abbbbbbc'>"
      ]
     },
     "execution_count": 29,
     "metadata": {},
     "output_type": "execute_result"
    }
   ],
   "source": [
    "r.search('abbbbbbc')"
   ]
  },
  {
   "cell_type": "markdown",
   "id": "faf5940e",
   "metadata": {},
   "source": [
    "#### 8) {숫자,} 기호\n",
    "{숫자,} : 해당 문자를 숫자 이상만큼 반복"
   ]
  },
  {
   "cell_type": "code",
   "execution_count": 30,
   "id": "ea34c289",
   "metadata": {},
   "outputs": [],
   "source": [
    "r=re.compile('a{2,}bc')\n",
    "\n",
    "r.search('abc')\n",
    "r.search('aa')"
   ]
  },
  {
   "cell_type": "code",
   "execution_count": 31,
   "id": "38c84973",
   "metadata": {},
   "outputs": [
    {
     "data": {
      "text/plain": [
       "<re.Match object; span=(0, 4), match='aabc'>"
      ]
     },
     "execution_count": 31,
     "metadata": {},
     "output_type": "execute_result"
    }
   ],
   "source": [
    "r.search('aabc')"
   ]
  },
  {
   "cell_type": "code",
   "execution_count": 33,
   "id": "7b91c410",
   "metadata": {},
   "outputs": [
    {
     "data": {
      "text/plain": [
       "<re.Match object; span=(0, 8), match='aaaaaabc'>"
      ]
     },
     "execution_count": 33,
     "metadata": {},
     "output_type": "execute_result"
    }
   ],
   "source": [
    "r.search('aaaaaabc')"
   ]
  },
  {
   "cell_type": "markdown",
   "id": "80d059f6",
   "metadata": {},
   "source": [
    "#### 9) []기호\n",
    "[] : 안에 문자들 중 한 개의 문자와 매치"
   ]
  },
  {
   "cell_type": "code",
   "execution_count": 34,
   "id": "2d1bb202",
   "metadata": {},
   "outputs": [],
   "source": [
    "r=re.compile('[abc]')\n",
    "\n",
    "r.search('zzz')"
   ]
  },
  {
   "cell_type": "code",
   "execution_count": 35,
   "id": "b02337b0",
   "metadata": {},
   "outputs": [
    {
     "data": {
      "text/plain": [
       "<re.Match object; span=(0, 1), match='a'>"
      ]
     },
     "execution_count": 35,
     "metadata": {},
     "output_type": "execute_result"
    }
   ],
   "source": [
    "r.search('a')"
   ]
  },
  {
   "cell_type": "code",
   "execution_count": 36,
   "id": "88e36e0f",
   "metadata": {},
   "outputs": [
    {
     "data": {
      "text/plain": [
       "<re.Match object; span=(0, 1), match='a'>"
      ]
     },
     "execution_count": 36,
     "metadata": {},
     "output_type": "execute_result"
    }
   ],
   "source": [
    "r.search('aaaa')"
   ]
  },
  {
   "cell_type": "code",
   "execution_count": 37,
   "id": "48d25592",
   "metadata": {},
   "outputs": [
    {
     "data": {
      "text/plain": [
       "<re.Match object; span=(0, 1), match='b'>"
      ]
     },
     "execution_count": 37,
     "metadata": {},
     "output_type": "execute_result"
    }
   ],
   "source": [
    "r.search('baac')"
   ]
  },
  {
   "cell_type": "code",
   "execution_count": 39,
   "id": "06645b52",
   "metadata": {},
   "outputs": [],
   "source": [
    "r=re.compile('[a-z]')\n",
    "\n",
    "r.search('AAA')\n",
    "r.search('111')"
   ]
  },
  {
   "cell_type": "code",
   "execution_count": 40,
   "id": "6c6b9ba6",
   "metadata": {},
   "outputs": [
    {
     "data": {
      "text/plain": [
       "<re.Match object; span=(0, 1), match='a'>"
      ]
     },
     "execution_count": 40,
     "metadata": {},
     "output_type": "execute_result"
    }
   ],
   "source": [
    "r.search('aBC')"
   ]
  },
  {
   "cell_type": "markdown",
   "id": "64dcb048",
   "metadata": {},
   "source": [
    "#### 10) [^문자]기호\n",
    "[^문자] : 문자들을 제외한 모든 문자들을 매치하는 역할"
   ]
  },
  {
   "cell_type": "code",
   "execution_count": 41,
   "id": "aca9a9cb",
   "metadata": {},
   "outputs": [],
   "source": [
    "r=re.compile('[^abc]')\n",
    "\n",
    "r.search('a')\n",
    "r.search('b')\n",
    "r.search('c')"
   ]
  },
  {
   "cell_type": "code",
   "execution_count": 42,
   "id": "9bf161de",
   "metadata": {},
   "outputs": [
    {
     "data": {
      "text/plain": [
       "<re.Match object; span=(0, 1), match='d'>"
      ]
     },
     "execution_count": 42,
     "metadata": {},
     "output_type": "execute_result"
    }
   ],
   "source": [
    "r.search('d')"
   ]
  },
  {
   "cell_type": "code",
   "execution_count": 43,
   "id": "e13ab763",
   "metadata": {},
   "outputs": [
    {
     "data": {
      "text/plain": [
       "<re.Match object; span=(0, 1), match='d'>"
      ]
     },
     "execution_count": 43,
     "metadata": {},
     "output_type": "execute_result"
    }
   ],
   "source": [
    "r.search('da')"
   ]
  },
  {
   "cell_type": "markdown",
   "id": "c77c7698",
   "metadata": {},
   "source": [
    "# 3. 정규 표현식 모듈 함수 예제"
   ]
  },
  {
   "cell_type": "markdown",
   "id": "5f3a4944",
   "metadata": {},
   "source": [
    "#### (1) re.match()와 re.search()의 차이\n",
    "search() : 정규 표현식 전체에 대해서 문자열이 매치하는지 확인  \n",
    "match() : 문자열의 첫 부분부터 정규 표현식과 매치하는지 확인"
   ]
  },
  {
   "cell_type": "code",
   "execution_count": 44,
   "id": "666db764",
   "metadata": {},
   "outputs": [],
   "source": [
    "r=re.compile('ab.')\n",
    "r.match('kkkabc')"
   ]
  },
  {
   "cell_type": "code",
   "execution_count": 45,
   "id": "2960cf8b",
   "metadata": {},
   "outputs": [
    {
     "data": {
      "text/plain": [
       "<re.Match object; span=(3, 6), match='abc'>"
      ]
     },
     "execution_count": 45,
     "metadata": {},
     "output_type": "execute_result"
    }
   ],
   "source": [
    "r.search('kkkabc')"
   ]
  },
  {
   "cell_type": "code",
   "execution_count": 46,
   "id": "924b8880",
   "metadata": {},
   "outputs": [
    {
     "data": {
      "text/plain": [
       "<re.Match object; span=(0, 3), match='abc'>"
      ]
     },
     "execution_count": 46,
     "metadata": {},
     "output_type": "execute_result"
    }
   ],
   "source": [
    "r.match('abckkk')"
   ]
  },
  {
   "cell_type": "markdown",
   "id": "c935cd41",
   "metadata": {},
   "source": [
    "#### (2) re.split()\n",
    "split() : 입력된 정규 표현식을 기준으로 문자열들을 분리하여 리스트로 리턴"
   ]
  },
  {
   "cell_type": "code",
   "execution_count": 47,
   "id": "680d25d1",
   "metadata": {},
   "outputs": [
    {
     "data": {
      "text/plain": [
       "['사과', '딸기', '수박', '메론', '바나나']"
      ]
     },
     "execution_count": 47,
     "metadata": {},
     "output_type": "execute_result"
    }
   ],
   "source": [
    "text='사과 딸기 수박 메론 바나나'\n",
    "re.split(' ', text)"
   ]
  },
  {
   "cell_type": "code",
   "execution_count": 48,
   "id": "9a56f353",
   "metadata": {},
   "outputs": [
    {
     "data": {
      "text/plain": [
       "['사과', '딸기', '수박', '메론', '바나나']"
      ]
     },
     "execution_count": 48,
     "metadata": {},
     "output_type": "execute_result"
    }
   ],
   "source": [
    "text=\"\"\"사과\n",
    "딸기\n",
    "수박\n",
    "메론\n",
    "바나나\"\"\"\n",
    "\n",
    "re.split('\\n',text)"
   ]
  },
  {
   "cell_type": "code",
   "execution_count": 50,
   "id": "586ac905",
   "metadata": {},
   "outputs": [
    {
     "data": {
      "text/plain": [
       "['사과', '딸기', '수박', '메로', '바나나']"
      ]
     },
     "execution_count": 50,
     "metadata": {},
     "output_type": "execute_result"
    }
   ],
   "source": [
    "text=\"사과+딸기+수박+메로+바나나\"\n",
    "re.split('\\+',text)"
   ]
  },
  {
   "cell_type": "markdown",
   "id": "064693ed",
   "metadata": {},
   "source": [
    "#### (3) re.findall()\n",
    "findall() : 정규 표현식에 매치되는 모든 문자열을 리스트로 리턴"
   ]
  },
  {
   "cell_type": "code",
   "execution_count": 51,
   "id": "f429229d",
   "metadata": {},
   "outputs": [
    {
     "data": {
      "text/plain": [
       "['010', '1234', '5678', '30']"
      ]
     },
     "execution_count": 51,
     "metadata": {},
     "output_type": "execute_result"
    }
   ],
   "source": [
    "text=\"\"\"이름 : 김철수\n",
    "전화번호 : 010 - 1234 - 5678\n",
    "나이 : 30\n",
    "성별 : 남\"\"\"\n",
    "\n",
    "re.findall('\\d+', text)"
   ]
  },
  {
   "cell_type": "code",
   "execution_count": 52,
   "id": "09f9309f",
   "metadata": {},
   "outputs": [
    {
     "data": {
      "text/plain": [
       "[]"
      ]
     },
     "execution_count": 52,
     "metadata": {},
     "output_type": "execute_result"
    }
   ],
   "source": [
    "re.findall('\\d+','문자열입니다.')"
   ]
  },
  {
   "cell_type": "markdown",
   "id": "0a7b8dda",
   "metadata": {},
   "source": [
    "#### (4) re.sub()\n",
    "sub() : 정규 표현식 패턴과 일치하는 무나열을 찾아 다른 문자열로 대체 가능"
   ]
  },
  {
   "cell_type": "code",
   "execution_count": 54,
   "id": "7e36c090",
   "metadata": {},
   "outputs": [
    {
     "name": "stdout",
     "output_type": "stream",
     "text": [
      "Regular expression   A regular expression  regex or regexp     sometimes called a rational expression        is  in theoretical computer science and formal language theory  a sequence of characters that define a search pattern \n"
     ]
    }
   ],
   "source": [
    "text = \"Regular expression : A regular expression, regex or regexp[1] (sometimes called a rational expression)[2][3] is, in theoretical computer science and formal language theory, a sequence of characters that define a search pattern.\"\n",
    "\n",
    "preprocessed_text=re.sub('[^a-zA-Z]',' ', text)\n",
    "print(preprocessed_text)"
   ]
  },
  {
   "cell_type": "markdown",
   "id": "19ec7cca",
   "metadata": {},
   "source": [
    "# 4. 정규 표현식 텍스트 전처리 예제"
   ]
  },
  {
   "cell_type": "code",
   "execution_count": 55,
   "id": "4f587b6f",
   "metadata": {},
   "outputs": [],
   "source": [
    "text=\"\"\"100 John    PROF\n",
    "101 James   STUD\n",
    "102 Mac   STUD\"\"\""
   ]
  },
  {
   "cell_type": "code",
   "execution_count": 56,
   "id": "614b8d0c",
   "metadata": {},
   "outputs": [
    {
     "data": {
      "text/plain": [
       "['100', 'John', 'PROF', '101', 'James', 'STUD', '102', 'Mac', 'STUD']"
      ]
     },
     "execution_count": 56,
     "metadata": {},
     "output_type": "execute_result"
    }
   ],
   "source": [
    "re.split('\\s+', text)"
   ]
  },
  {
   "cell_type": "code",
   "execution_count": 57,
   "id": "dd904f03",
   "metadata": {},
   "outputs": [
    {
     "data": {
      "text/plain": [
       "['100', '101', '102']"
      ]
     },
     "execution_count": 57,
     "metadata": {},
     "output_type": "execute_result"
    }
   ],
   "source": [
    "re.findall('\\d+',text)"
   ]
  },
  {
   "cell_type": "code",
   "execution_count": 60,
   "id": "fae45093",
   "metadata": {},
   "outputs": [
    {
     "data": {
      "text/plain": [
       "['J', 'P', 'R', 'O', 'F', 'J', 'S', 'T', 'U', 'D', 'M', 'S', 'T', 'U', 'D']"
      ]
     },
     "execution_count": 60,
     "metadata": {},
     "output_type": "execute_result"
    }
   ],
   "source": [
    "re.findall('[A-Z]', text)"
   ]
  },
  {
   "cell_type": "code",
   "execution_count": 62,
   "id": "65a69df2",
   "metadata": {},
   "outputs": [
    {
     "data": {
      "text/plain": [
       "['PROF', 'STUD', 'STUD']"
      ]
     },
     "execution_count": 62,
     "metadata": {},
     "output_type": "execute_result"
    }
   ],
   "source": [
    "re.findall('[A-Z]{4}', text)"
   ]
  },
  {
   "cell_type": "code",
   "execution_count": 63,
   "id": "928dd54e",
   "metadata": {},
   "outputs": [
    {
     "data": {
      "text/plain": [
       "['John', 'James', 'Mac']"
      ]
     },
     "execution_count": 63,
     "metadata": {},
     "output_type": "execute_result"
    }
   ],
   "source": [
    "re.findall('[A-Z][a-z]+', text)"
   ]
  },
  {
   "cell_type": "markdown",
   "id": "e62a4b15",
   "metadata": {},
   "source": [
    "# 5. 정규 표현식을 이용한 토큰화"
   ]
  },
  {
   "cell_type": "code",
   "execution_count": 69,
   "id": "1b0c2316",
   "metadata": {},
   "outputs": [
    {
     "name": "stdout",
     "output_type": "stream",
     "text": [
      "['Don', 't', 'be', 'fooled', 'by', 'the', 'dark', 'sounding', 'name', 'Mr', 'Jone', 's', 'Orphanage', 'is', 'as', 'cheery', 'as', 'cheery', 'goes', 'for', 'a', 'pastry', 'shop']\n",
      "[\"Don't\", 'be', 'fooled', 'by', 'the', 'dark', 'sounding', 'name,', 'Mr.', \"Jone's\", 'Orphanage', 'is', 'as', 'cheery', 'as', 'cheery', 'goes', 'for', 'a', 'pastry', 'shop']\n"
     ]
    }
   ],
   "source": [
    "from nltk.tokenize import RegexpTokenizer\n",
    "\n",
    "text=\"Don't be fooled by the dark sounding name, Mr. Jone's Orphanage is as cheery as cheery goes for a pastry shop\"\n",
    "\n",
    "tokenizer1=RegexpTokenizer('\\w+')\n",
    "tokenizer2=RegexpTokenizer('\\s+', gaps=True)\n",
    "\n",
    "print(tokenizer1.tokenize(text))\n",
    "print(tokenizer2.tokenize(text))"
   ]
  },
  {
   "cell_type": "code",
   "execution_count": null,
   "id": "83cd0be2",
   "metadata": {},
   "outputs": [],
   "source": []
  }
 ],
 "metadata": {
  "kernelspec": {
   "display_name": "Python 3 (ipykernel)",
   "language": "python",
   "name": "python3"
  },
  "language_info": {
   "codemirror_mode": {
    "name": "ipython",
    "version": 3
   },
   "file_extension": ".py",
   "mimetype": "text/x-python",
   "name": "python",
   "nbconvert_exporter": "python",
   "pygments_lexer": "ipython3",
   "version": "3.9.7"
  }
 },
 "nbformat": 4,
 "nbformat_minor": 5
}
