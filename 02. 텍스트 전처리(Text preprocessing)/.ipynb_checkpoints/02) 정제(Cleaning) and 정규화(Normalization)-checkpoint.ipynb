{
 "cells": [
  {
   "cell_type": "markdown",
   "id": "97cb7370",
   "metadata": {},
   "source": [
    "토큰화 : 코퍼스에서 용도에 맞게 토큰을 분류하는 작업  \n",
    "토큰화 작업 전, 후에는 텍스트 데이터를 요도에 맞게 정제 및 정규화 하는 일이 항상이 함께한다.\n",
    "\n",
    "- 정제 : 갖고 있는 코퍼스로부터 노이즈 데이터 제거\n",
    "- 정규화 : 표현 방법이 다른 단어들을 통합시켜서 같은 단어로 변환"
   ]
  },
  {
   "cell_type": "markdown",
   "id": "a3a19667",
   "metadata": {},
   "source": [
    "# 1. 규칙에 기반한 표기가 다른 단어들의 통합\n",
    "필요에 따라 직접 코딩을 통해 정의할 수 있는 정규화 규칙의 예로서 같은 의미를 갖고있음에도, 표기가 다른 단어들을 하나의 단어로 정규화하는 방법을 사용할 수 있다.\n",
    "\n",
    "USA와 US는 같은 의미를 가지므로 하나의 단어로 정규화해볼 수 있다. 정규화를 거치게 되면, US를 찾아도 USA도 함께 찾을 수 있다."
   ]
  },
  {
   "cell_type": "markdown",
   "id": "f3d1cb16",
   "metadata": {},
   "source": [
    "# 2. 대, 소문자 통합\n",
    "영어권 언어에서 대, 소문자 통합→단어의 개수 축소할 수 있는 정규화 방법 : 대부분 소문자 변환작업으로 이루어짐\n",
    "\n",
    "물론, 대문자와 소문자가 구분되어야 하는 경우도 있다. ex) US(미국을 뜻하는 단어) / us(우리를 뜻하는 단어)  \n",
    "→대안 : 일부만 소문자로 변환 ex) 맨 앞에서 나오는 단어의 대문자만 소문자로 바꾸고, 다른 단어들은 전부 대문자 유지"
   ]
  },
  {
   "cell_type": "markdown",
   "id": "0006a39d",
   "metadata": {},
   "source": [
    "# 3. 불필요한 단어의 제거\n",
    "노이즈 데이터 : 자연어가 아니면서 아무 의미도 갖지 않는 글자, 분석하고자 하는 목적에 맞지 않는 불필요한 단어\n",
    "\n",
    "#### (1) 등장 빈도가 적은 단어\n",
    "텍스트 데이터에서 너무 적게 등장해서 자연어 처리에 도움이 되지 않는 단어들 존재  \n",
    "\n",
    "ex) 스팸 메일 분류기 설계 가정 : 100,000개의 메일 데이터에서 총 합 5번 밖에 등장하지 않는 단어=노이즈 데이터\n",
    "\n",
    "#### (2) 길이가 짧은 단어\n",
    "영어권 언어에서 길이가 짧은 단어들은 대부분 불용어에 해당\n",
    "\n",
    "ex) 2-3글자 이하인 단어 : it, at, to, on, in, by : 3글자는 고려 필요(dog, car, fox)"
   ]
  },
  {
   "cell_type": "code",
   "execution_count": 1,
   "id": "9f1c4b19",
   "metadata": {},
   "outputs": [
    {
     "name": "stdout",
     "output_type": "stream",
     "text": [
      " was wondering anyone out there could enlighten this car.\n"
     ]
    }
   ],
   "source": [
    "import re\n",
    "text=\"I was wondering if anyone out there could enlighten me on this car.\"\n",
    "\n",
    "shortword=re.compile(r'\\W*\\b\\w{1,2}\\b') # 정규 표현식 이용\n",
    "print(shortword.sub('',text))"
   ]
  }
 ],
 "metadata": {
  "kernelspec": {
   "display_name": "Python 3 (ipykernel)",
   "language": "python",
   "name": "python3"
  },
  "language_info": {
   "codemirror_mode": {
    "name": "ipython",
    "version": 3
   },
   "file_extension": ".py",
   "mimetype": "text/x-python",
   "name": "python",
   "nbconvert_exporter": "python",
   "pygments_lexer": "ipython3",
   "version": "3.9.7"
  }
 },
 "nbformat": 4,
 "nbformat_minor": 5
}
