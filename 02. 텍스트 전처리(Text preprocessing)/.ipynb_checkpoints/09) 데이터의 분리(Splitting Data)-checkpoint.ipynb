{
 "cells": [
  {
   "cell_type": "code",
   "execution_count": 1,
   "id": "4fd654ea",
   "metadata": {},
   "outputs": [],
   "source": [
    "import pandas as pd\n",
    "import numpy as np\n",
    "from sklearn.model_selection import train_test_split"
   ]
  },
  {
   "cell_type": "markdown",
   "id": "e7d03e27",
   "metadata": {},
   "source": [
    "# 1. 지도 학습(Supervised Learning)\n",
    "\n",
    "**<훈련 데이터>**\n",
    "- X_train : 문제지 데이터\n",
    "- y_train : 문제지에 대한 정답 데이터\n",
    "\n",
    "**<테스트 데이터>**\n",
    "- X_test : 시험지 데이터\n",
    "- y_test : 시험지에 대한 정답 데이터"
   ]
  },
  {
   "cell_type": "markdown",
   "id": "0854074b",
   "metadata": {},
   "source": [
    "# 2. X와 y 분리하기"
   ]
  },
  {
   "cell_type": "markdown",
   "id": "3bb4a386",
   "metadata": {},
   "source": [
    "#### 1) zip 함수를 이용하여 분리하기\n",
    "zip() : 동일한 개수를 가지는 시퀀스 자료형에서 각 순서에 등장하는 원소들끼리 묶어주는 역할"
   ]
  },
  {
   "cell_type": "code",
   "execution_count": 2,
   "id": "381c6f48",
   "metadata": {},
   "outputs": [
    {
     "name": "stdout",
     "output_type": "stream",
     "text": [
      "X 데이터 : ('a', 'b', 'c')\n",
      "y 데이터 : (1, 2, 3)\n"
     ]
    }
   ],
   "source": [
    "X, y=zip(['a',1],['b',2],['c',3])\n",
    "print(\"X 데이터 :\",X)\n",
    "print(\"y 데이터 :\",y)"
   ]
  },
  {
   "cell_type": "code",
   "execution_count": 3,
   "id": "1c011d25",
   "metadata": {},
   "outputs": [
    {
     "name": "stdout",
     "output_type": "stream",
     "text": [
      "X 데이터 : ('a', 'b', 'c')\n",
      "y 데이터 : (1, 2, 3)\n"
     ]
    }
   ],
   "source": [
    "# 리스트의 리스트 또는 행렬 또는 2D 텐서\n",
    "sequences=[['a',1],['b',2],['c',3]]\n",
    "X, y=zip(*sequences)\n",
    "print(\"X 데이터 :\",X)\n",
    "print(\"y 데이터 :\",y)"
   ]
  },
  {
   "cell_type": "markdown",
   "id": "250ffee3",
   "metadata": {},
   "source": [
    "#### 2) 데이터프레임을 이용하여 분리하기"
   ]
  },
  {
   "cell_type": "code",
   "execution_count": 4,
   "id": "db7181fa",
   "metadata": {},
   "outputs": [
    {
     "data": {
      "text/html": [
       "<div>\n",
       "<style scoped>\n",
       "    .dataframe tbody tr th:only-of-type {\n",
       "        vertical-align: middle;\n",
       "    }\n",
       "\n",
       "    .dataframe tbody tr th {\n",
       "        vertical-align: top;\n",
       "    }\n",
       "\n",
       "    .dataframe thead th {\n",
       "        text-align: right;\n",
       "    }\n",
       "</style>\n",
       "<table border=\"1\" class=\"dataframe\">\n",
       "  <thead>\n",
       "    <tr style=\"text-align: right;\">\n",
       "      <th></th>\n",
       "      <th>메일 본문</th>\n",
       "      <th>스팸 메일 유무</th>\n",
       "    </tr>\n",
       "  </thead>\n",
       "  <tbody>\n",
       "    <tr>\n",
       "      <th>0</th>\n",
       "      <td>당신에게 드리는 마지막 혜택!</td>\n",
       "      <td>1</td>\n",
       "    </tr>\n",
       "    <tr>\n",
       "      <th>1</th>\n",
       "      <td>내일 뵐 수 있을지 확인 부탁드...</td>\n",
       "      <td>0</td>\n",
       "    </tr>\n",
       "    <tr>\n",
       "      <th>2</th>\n",
       "      <td>도연씨. 잘 지내시죠? 오랜만입...</td>\n",
       "      <td>0</td>\n",
       "    </tr>\n",
       "    <tr>\n",
       "      <th>3</th>\n",
       "      <td>(광고) AI로 주가를 예측할 수 있다!</td>\n",
       "      <td>1</td>\n",
       "    </tr>\n",
       "  </tbody>\n",
       "</table>\n",
       "</div>"
      ],
      "text/plain": [
       "                    메일 본문  스팸 메일 유무\n",
       "0        당신에게 드리는 마지막 혜택!         1\n",
       "1    내일 뵐 수 있을지 확인 부탁드...         0\n",
       "2    도연씨. 잘 지내시죠? 오랜만입...         0\n",
       "3  (광고) AI로 주가를 예측할 수 있다!         1"
      ]
     },
     "execution_count": 4,
     "metadata": {},
     "output_type": "execute_result"
    }
   ],
   "source": [
    "values = [['당신에게 드리는 마지막 혜택!', 1],\n",
    "['내일 뵐 수 있을지 확인 부탁드...', 0],\n",
    "['도연씨. 잘 지내시죠? 오랜만입...', 0],\n",
    "['(광고) AI로 주가를 예측할 수 있다!', 1]]\n",
    "columns=['메일 본문','스팸 메일 유무']\n",
    "\n",
    "df=pd.DataFrame(values, columns=columns)\n",
    "df"
   ]
  },
  {
   "cell_type": "code",
   "execution_count": 5,
   "id": "2cd5b937",
   "metadata": {},
   "outputs": [],
   "source": [
    "X=df['메일 본문']\n",
    "y=df['스팸 메일 유무']"
   ]
  },
  {
   "cell_type": "code",
   "execution_count": 6,
   "id": "458e7686",
   "metadata": {},
   "outputs": [
    {
     "name": "stdout",
     "output_type": "stream",
     "text": [
      "X 데이터 : ['당신에게 드리는 마지막 혜택!', '내일 뵐 수 있을지 확인 부탁드...', '도연씨. 잘 지내시죠? 오랜만입...', '(광고) AI로 주가를 예측할 수 있다!']\n",
      "y 데이터 : [1, 0, 0, 1]\n"
     ]
    }
   ],
   "source": [
    "print('X 데이터 :', X.to_list())\n",
    "print('y 데이터 :', y.to_list())"
   ]
  },
  {
   "cell_type": "markdown",
   "id": "bbaf1549",
   "metadata": {},
   "source": [
    "#### 3) Numpy를 이용하여 분리하기"
   ]
  },
  {
   "cell_type": "code",
   "execution_count": 7,
   "id": "46284362",
   "metadata": {},
   "outputs": [
    {
     "name": "stdout",
     "output_type": "stream",
     "text": [
      "전체 데이터 :\n",
      "[[ 0  1  2  3]\n",
      " [ 4  5  6  7]\n",
      " [ 8  9 10 11]\n",
      " [12 13 14 15]]\n"
     ]
    }
   ],
   "source": [
    "np_array=np.arange(0,16).reshape((4,4))\n",
    "print('전체 데이터 :')\n",
    "print(np_array)"
   ]
  },
  {
   "cell_type": "code",
   "execution_count": 8,
   "id": "9f09faab",
   "metadata": {},
   "outputs": [
    {
     "name": "stdout",
     "output_type": "stream",
     "text": [
      "X 데이터 :\n",
      "[[ 0  1  2]\n",
      " [ 4  5  6]\n",
      " [ 8  9 10]\n",
      " [12 13 14]]\n",
      "y 데이터 : [ 3  7 11 15]\n"
     ]
    }
   ],
   "source": [
    "X=np_array[:,:3]\n",
    "y=np_array[:,3]\n",
    "\n",
    "print(\"X 데이터 :\")\n",
    "print(X)\n",
    "print('y 데이터 :', y)"
   ]
  },
  {
   "cell_type": "markdown",
   "id": "6c8bab7f",
   "metadata": {},
   "source": [
    "# 3. 테스트 데이터 분리하기"
   ]
  },
  {
   "cell_type": "markdown",
   "id": "c096420e",
   "metadata": {},
   "source": [
    "#### 1) 사이킷 런을 이용하여 분리하기\n",
    "train_test_split() 이용\n",
    "\n",
    "```python\n",
    "X_train, X_test, y_train, y_test=train_test_split(X, y, test_size=0.2, random_state=42)\n",
    "```"
   ]
  },
  {
   "cell_type": "code",
   "execution_count": 9,
   "id": "37db34a8",
   "metadata": {},
   "outputs": [
    {
     "name": "stdout",
     "output_type": "stream",
     "text": [
      "X 전체 데이터 : \n",
      " [[0 1]\n",
      " [2 3]\n",
      " [4 5]\n",
      " [6 7]\n",
      " [8 9]]\n",
      "y 전체 데이터 : range(0, 5)\n"
     ]
    }
   ],
   "source": [
    "X, y=np.arange(10).reshape((5,2)), range(5)\n",
    "\n",
    "print(\"X 전체 데이터 : \\n\",X)\n",
    "print('y 전체 데이터 :',y)"
   ]
  },
  {
   "cell_type": "code",
   "execution_count": 10,
   "id": "15be6a49",
   "metadata": {},
   "outputs": [],
   "source": [
    "X_train, X_test, y_train, y_test=train_test_split(X, y, test_size=0.3, random_state=42)"
   ]
  },
  {
   "cell_type": "code",
   "execution_count": 11,
   "id": "655d85c1",
   "metadata": {},
   "outputs": [
    {
     "name": "stdout",
     "output_type": "stream",
     "text": [
      "X 훈련 데이터 :\n",
      " [[4 5]\n",
      " [0 1]\n",
      " [6 7]]\n",
      "X 테스트 데이터 :\n",
      " [[2 3]\n",
      " [8 9]]\n"
     ]
    }
   ],
   "source": [
    "print(\"X 훈련 데이터 :\\n\",X_train)\n",
    "print(\"X 테스트 데이터 :\\n\", X_test)"
   ]
  },
  {
   "cell_type": "code",
   "execution_count": 12,
   "id": "7a4f1048",
   "metadata": {},
   "outputs": [
    {
     "name": "stdout",
     "output_type": "stream",
     "text": [
      "y 훈련 데이터 :\n",
      "[2, 0, 3]\n",
      "y 테스트 데이터 :\n",
      "[1, 4]\n"
     ]
    }
   ],
   "source": [
    "print('y 훈련 데이터 :')\n",
    "print(y_train)\n",
    "print('y 테스트 데이터 :')\n",
    "print(y_test)"
   ]
  },
  {
   "cell_type": "markdown",
   "id": "f17c902e",
   "metadata": {},
   "source": [
    "#### 2) 수동으로 분리하기"
   ]
  },
  {
   "cell_type": "code",
   "execution_count": 13,
   "id": "3e287e84",
   "metadata": {},
   "outputs": [
    {
     "name": "stdout",
     "output_type": "stream",
     "text": [
      "X 전체 데이터 : \n",
      " [[ 0  1]\n",
      " [ 2  3]\n",
      " [ 4  5]\n",
      " [ 6  7]\n",
      " [ 8  9]\n",
      " [10 11]\n",
      " [12 13]\n",
      " [14 15]\n",
      " [16 17]\n",
      " [18 19]\n",
      " [20 21]\n",
      " [22 23]]\n",
      "y 전체 데이터 :\n",
      " [0, 1, 2, 3, 4, 5, 6, 7, 8, 9, 10, 11]\n"
     ]
    }
   ],
   "source": [
    "X,y= np.arange(0,24).reshape((12,2)), range(12)\n",
    "\n",
    "print(\"X 전체 데이터 : \\n\",X)\n",
    "print('y 전체 데이터 :\\n',list(y))"
   ]
  },
  {
   "cell_type": "code",
   "execution_count": 14,
   "id": "35948e1f",
   "metadata": {},
   "outputs": [
    {
     "name": "stdout",
     "output_type": "stream",
     "text": [
      "훈련 데이터 크기 : 9\n",
      "테스트 데이터 크기 : 3\n"
     ]
    }
   ],
   "source": [
    "num_of_train=int(len(X)*0.8)\n",
    "num_of_test=int(len(X)-num_of_train)\n",
    "print('훈련 데이터 크기 :',num_of_train)\n",
    "print('테스트 데이터 크기 :', num_of_test)"
   ]
  },
  {
   "cell_type": "code",
   "execution_count": 15,
   "id": "b3149689",
   "metadata": {},
   "outputs": [],
   "source": [
    "X_train=X[:num_of_train]\n",
    "X_test=X[num_of_train:]\n",
    "y_train=y[:num_of_train]\n",
    "y_test=y[num_of_train:]"
   ]
  },
  {
   "cell_type": "code",
   "execution_count": 16,
   "id": "97c63f23",
   "metadata": {},
   "outputs": [
    {
     "name": "stdout",
     "output_type": "stream",
     "text": [
      "X 테스트 데이터 :\n",
      " [[18 19]\n",
      " [20 21]\n",
      " [22 23]]\n",
      "y 테스트 데이터 :\n",
      " [9, 10, 11]\n"
     ]
    }
   ],
   "source": [
    "print(\"X 테스트 데이터 :\\n\",X_test)\n",
    "print(\"y 테스트 데이터 :\\n\", list(y_test))"
   ]
  }
 ],
 "metadata": {
  "kernelspec": {
   "display_name": "Python 3 (ipykernel)",
   "language": "python",
   "name": "python3"
  },
  "language_info": {
   "codemirror_mode": {
    "name": "ipython",
    "version": 3
   },
   "file_extension": ".py",
   "mimetype": "text/x-python",
   "name": "python",
   "nbconvert_exporter": "python",
   "pygments_lexer": "ipython3",
   "version": "3.9.7"
  }
 },
 "nbformat": 4,
 "nbformat_minor": 5
}
