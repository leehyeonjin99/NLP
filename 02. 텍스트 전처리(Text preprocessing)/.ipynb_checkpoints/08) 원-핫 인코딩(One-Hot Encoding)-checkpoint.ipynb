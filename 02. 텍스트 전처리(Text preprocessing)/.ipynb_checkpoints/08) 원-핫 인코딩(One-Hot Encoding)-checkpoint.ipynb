{
 "cells": [
  {
   "cell_type": "markdown",
   "id": "50a350ae",
   "metadata": {},
   "source": [
    "원-핫 인코딩 : 자연어 처리에서 문자를 수샂로 바꾸는 여러가지 기법 중 가장 기본적인 표현 방법\n",
    "\n",
    "**단어 집합(vocabulary)** : 서로 다른 단어들의 집합  \n",
    "단어 집합에서는 기본적으로 book과 books와 같이 단어의 번형형태도 다른 단어로 간주한다."
   ]
  },
  {
   "cell_type": "markdown",
   "id": "97d9fd0e",
   "metadata": {},
   "source": [
    "# 1. 원-핫 인코딩(One-Hot Encoding)이란?\n",
    "- 원-핫 인코딩 : 단어 집합의 크기를 벡터의 차원으로 하고, 표현하고 싶은 단어의 인덱스에 1의 값을 부여하고, 다른 인덱스에는 0을 부여하는 단어의 벡터 표현 방식\n",
    "- 원-핫 벡터 :  원-핫 인코딩 방식으로 표현된 벡터\n",
    "\n",
    "첫째, 정수 인코딩을 수행한다.  \n",
    "둘째, 표현하고 싶은 단어의 고유한 정수를 인덱스로 간주하고 해당 위치에 1을 부여하고, 다른 단어의 인덱스의 위치에는 0을 부여한다.\n",
    "\n",
    "**문장 : 나는 자연어 처리를 배운다**"
   ]
  },
  {
   "cell_type": "code",
   "execution_count": 1,
   "id": "df89626d",
   "metadata": {},
   "outputs": [
    {
     "name": "stdout",
     "output_type": "stream",
     "text": [
      "['나', '는', '자연어', '처리', '를', '배운다', '.']\n"
     ]
    }
   ],
   "source": [
    "from konlpy.tag import Okt\n",
    "\n",
    "okt=Okt()\n",
    "tokens=okt.morphs('나는 자연어 처리를 배운다.')\n",
    "print(tokens)"
   ]
  },
  {
   "cell_type": "code",
   "execution_count": 3,
   "id": "515b6d09",
   "metadata": {},
   "outputs": [
    {
     "name": "stdout",
     "output_type": "stream",
     "text": [
      "단어 집합 : {'나': 0, '는': 1, '자연어': 2, '처리': 3, '를': 4, '배운다': 5, '.': 6}\n"
     ]
    }
   ],
   "source": [
    "word_to_index={word : index for index, word in enumerate(tokens)}\n",
    "print(\"단어 집합 :\",word_to_index)"
   ]
  },
  {
   "cell_type": "code",
   "execution_count": 4,
   "id": "442268bf",
   "metadata": {},
   "outputs": [],
   "source": [
    "def one_hot_encoding(word, word_to_index):\n",
    "    one_hot_vector=[0]*(len(word_to_index))\n",
    "    index=word_to_index[word]\n",
    "    one_hot_vector[index]=1\n",
    "    return one_hot_vector"
   ]
  },
  {
   "cell_type": "code",
   "execution_count": 5,
   "id": "bf458d66",
   "metadata": {},
   "outputs": [
    {
     "data": {
      "text/plain": [
       "[0, 0, 1, 0, 0, 0, 0]"
      ]
     },
     "execution_count": 5,
     "metadata": {},
     "output_type": "execute_result"
    }
   ],
   "source": [
    "one_hot_encoding('자연어', word_to_index)"
   ]
  },
  {
   "cell_type": "markdown",
   "id": "7cfaa795",
   "metadata": {},
   "source": [
    "# 2. 케라스(Keras)를 이용한 원-핫 인코딩(One-Hot Encoding)"
   ]
  },
  {
   "cell_type": "code",
   "execution_count": 6,
   "id": "501fc601",
   "metadata": {},
   "outputs": [],
   "source": [
    "text = \"나랑 점심 먹으러 갈래 점심 메뉴는 햄버거 갈래 갈래 햄버거 최고야\""
   ]
  },
  {
   "cell_type": "code",
   "execution_count": 8,
   "id": "7fc8953f",
   "metadata": {},
   "outputs": [
    {
     "name": "stdout",
     "output_type": "stream",
     "text": [
      "단어 집합 : {'갈래': 1, '점심': 2, '햄버거': 3, '나랑': 4, '먹으러': 5, '메뉴는': 6, '최고야': 7}\n"
     ]
    }
   ],
   "source": [
    "from tensorflow.keras.preprocessing.text import Tokenizer\n",
    "from tensorflow.keras.utils import to_categorical\n",
    "\n",
    "tokenizer=Tokenizer()\n",
    "tokenizer.fit_on_texts([text])\n",
    "print('단어 집합 :', tokenizer.word_index)"
   ]
  },
  {
   "cell_type": "code",
   "execution_count": 11,
   "id": "6fe8ad2b",
   "metadata": {},
   "outputs": [
    {
     "name": "stdout",
     "output_type": "stream",
     "text": [
      "[2, 5, 1, 6, 3, 7]\n"
     ]
    }
   ],
   "source": [
    "sub_text=\"점심 먹으러 갈래 메뉴는 햄버거 최고야\"\n",
    "encoded=tokenizer.texts_to_sequences([sub_text])[0]\n",
    "print(encoded)"
   ]
  },
  {
   "cell_type": "code",
   "execution_count": 12,
   "id": "ab0c3c17",
   "metadata": {},
   "outputs": [
    {
     "name": "stdout",
     "output_type": "stream",
     "text": [
      "[[0. 0. 1. 0. 0. 0. 0. 0.]\n",
      " [0. 0. 0. 0. 0. 1. 0. 0.]\n",
      " [0. 1. 0. 0. 0. 0. 0. 0.]\n",
      " [0. 0. 0. 0. 0. 0. 1. 0.]\n",
      " [0. 0. 0. 1. 0. 0. 0. 0.]\n",
      " [0. 0. 0. 0. 0. 0. 0. 1.]]\n"
     ]
    }
   ],
   "source": [
    "one_hot=to_categorical(encoded)\n",
    "print(one_hot)"
   ]
  },
  {
   "cell_type": "markdown",
   "id": "d20eb9c8",
   "metadata": {},
   "source": [
    "# 3. 원-핫 인코딩(One-Hot Encoding)의 한계\n",
    "- 단어의 개수가 늘어날 수록, 벡터를 저장하기 위해 필요한 공간이 계속 늘어난다\n",
    "- 단어의 유사도를 표현하지 못한다. ex) 늑대, 호랑이, 강아지, 고양이라는 4개의 단어에 대해서 원-핫 인코딩을 하면 강아지와 늑대가 유사하고, 호랑이와 고양이가 유사하다는 것을 알 수 없다.  \n",
    "→  '게스트 하우스'와 '료칸'과 '호텔'이라는 연관 검색어를 보여줄 수 없습니다.\n",
    "\n",
    "극복 방법\n",
    "- 카운트 기반의 벡터화 방법인 LSA, HAL\n",
    "- 예측 기반으로 벡터화하는 NNLM, RNNLM, WOrd2Vec, FastText\n",
    "- 카운트+예측 기반인 GloVe"
   ]
  }
 ],
 "metadata": {
  "kernelspec": {
   "display_name": "Python 3 (ipykernel)",
   "language": "python",
   "name": "python3"
  },
  "language_info": {
   "codemirror_mode": {
    "name": "ipython",
    "version": 3
   },
   "file_extension": ".py",
   "mimetype": "text/x-python",
   "name": "python",
   "nbconvert_exporter": "python",
   "pygments_lexer": "ipython3",
   "version": "3.9.7"
  }
 },
 "nbformat": 4,
 "nbformat_minor": 5
}
