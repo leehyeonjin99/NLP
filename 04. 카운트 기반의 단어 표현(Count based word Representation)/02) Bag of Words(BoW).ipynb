{
 "cells": [
  {
   "cell_type": "markdown",
   "id": "a92e670d",
   "metadata": {},
   "source": [
    "# 1. Bag of Words란?\n",
    "Bah of Words : 단어들의 순서는 전혀 고려하지 않고, 단어들의 출현 빈도(frequency)에만 집중하는 텍스트 데이터의 수치화 표현 방법\n",
    "\n",
    "BoW 만드는 과정\n",
    "(1) 각 단어에 고유한 정수 인덱스를 부여한다. # 단어 집합 생성\n",
    "(2) 각 인덱스의 위치에 단어 트큰의 등장 횟수를 기록한 벡터를 만든다.\n",
    "\n",
    "**문서1 : 정부가 발표하는 물가상승률과 소비자가 느끼는 물가상승률은 다르다.**\n",
    "\n",
    "문서1에 대해서 BoW를 만들자."
   ]
  },
  {
   "cell_type": "code",
   "execution_count": 2,
   "id": "0f5dbd44",
   "metadata": {},
   "outputs": [],
   "source": [
    "from konlpy.tag import Okt\n",
    "\n",
    "okt=Okt()\n",
    "\n",
    "def bulid_bag_of_words(document):\n",
    "    document=document.replace('.','')\n",
    "    tokenized_document=okt.morphs(document)\n",
    "    \n",
    "    word_to_index={}\n",
    "    bow=[]\n",
    "    \n",
    "    for word in tokenized_document:\n",
    "        if word not in word_to_index:\n",
    "            word_to_index[word]=len(word_to_index)\n",
    "            bow.insert(len(word_to_index)-1, 1)\n",
    "        else:\n",
    "            index=word_to_index.get(word)\n",
    "            bow[index]+=1\n",
    "    \n",
    "    return word_to_index, bow"
   ]
  },
  {
   "cell_type": "code",
   "execution_count": 3,
   "id": "db512b23",
   "metadata": {},
   "outputs": [
    {
     "name": "stdout",
     "output_type": "stream",
     "text": [
      "vocabulary : {'정부': 0, '가': 1, '발표': 2, '하는': 3, '물가상승률': 4, '과': 5, '소비자': 6, '느끼는': 7, '은': 8, '다르다': 9}\n",
      "bag fo words : [1, 2, 1, 1, 2, 1, 1, 1, 1, 1]\n"
     ]
    }
   ],
   "source": [
    "doc1=\"정부가 발표하는 물가상승률과 소비자가 느끼는 물가상승률은 다르다.\"\n",
    "vocab, bow=bulid_bag_of_words(doc1)\n",
    "print('vocabulary :',vocab)\n",
    "print('bag fo words :',bow)"
   ]
  },
  {
   "cell_type": "markdown",
   "id": "aa3c33ae",
   "metadata": {},
   "source": [
    "# 2. BoW의 다른 예제들\n",
    "\n",
    "**문서2 : 소비자는 주로 소비하는 상품을 기준으로 물가상승률을 느낀다.**"
   ]
  },
  {
   "cell_type": "code",
   "execution_count": 4,
   "id": "2fbb1c42",
   "metadata": {},
   "outputs": [
    {
     "name": "stdout",
     "output_type": "stream",
     "text": [
      "vocabulary : {'소비자': 0, '는': 1, '주로': 2, '소비': 3, '하는': 4, '상품': 5, '을': 6, '기준': 7, '으로': 8, '물가상승률': 9, '느낀다': 10}\n",
      "bag of words : [1, 1, 1, 1, 1, 1, 2, 1, 1, 1, 1]\n"
     ]
    }
   ],
   "source": [
    "doc2=\"소비자는 주로 소비하는 상품을 기준으로 물가상승률을 느낀다.\"\n",
    "\n",
    "vocab, bow=bulid_bag_of_words(doc2)\n",
    "print('vocabulary :', vocab)\n",
    "print('bag of words :',bow)"
   ]
  },
  {
   "cell_type": "markdown",
   "id": "fd8067c5",
   "metadata": {},
   "source": [
    "문서3=문서1+문서2\n",
    "\n",
    "**문서3 : 정부가 발표하는 물가상승률과 소비자가 느끼는 물가상승률은 다르다. 소비자는 주로 소비하는 상품을 기준으로 물가상승률을 느낀다.**"
   ]
  },
  {
   "cell_type": "code",
   "execution_count": 5,
   "id": "8a9b8495",
   "metadata": {},
   "outputs": [
    {
     "name": "stdout",
     "output_type": "stream",
     "text": [
      "vocabulary : {'정부': 0, '가': 1, '발표': 2, '하는': 3, '물가상승률': 4, '과': 5, '소비자': 6, '느끼는': 7, '은': 8, '다르다': 9, '는': 10, '주로': 11, '소비': 12, '상품': 13, '을': 14, '기준': 15, '으로': 16, '느낀다': 17}\n",
      "bag of words : [1, 2, 1, 2, 3, 1, 2, 1, 1, 1, 1, 1, 1, 1, 2, 1, 1, 1]\n"
     ]
    }
   ],
   "source": [
    "doc3= doc1+' '+doc2\n",
    "vocab, bow=bulid_bag_of_words(doc3)\n",
    "print('vocabulary :', vocab)\n",
    "print('bag of words :',bow)"
   ]
  },
  {
   "cell_type": "markdown",
   "id": "10f95dd8",
   "metadata": {},
   "source": [
    "BoW는 각 단어가 등장한 횟수를 수치화하는 텍스트 표현 방법  \n",
    "→ 주로 어떤 단어가 얼마나 등장했는지를 기준으로 문서가 어떤 성격의 문서인지를 판단하는 작업에 사용"
   ]
  },
  {
   "cell_type": "markdown",
   "id": "9f60c972",
   "metadata": {},
   "source": [
    "# 3.  CountVectorizer 클래스로 BoW 만들기"
   ]
  },
  {
   "cell_type": "code",
   "execution_count": 9,
   "id": "cae82d44",
   "metadata": {},
   "outputs": [
    {
     "name": "stdout",
     "output_type": "stream",
     "text": [
      "bag of words vector : [[1 1 2 1 2 1]]\n",
      "vocabulary : {'you': 4, 'know': 1, 'want': 3, 'your': 5, 'love': 2, 'because': 0}\n"
     ]
    }
   ],
   "source": [
    "from sklearn.feature_extraction.text import CountVectorizer\n",
    "\n",
    "corpus=['you know I want your love. because I love you.']\n",
    "vector=CountVectorizer()\n",
    "\n",
    "print('bag of words vector :',vector.fit_transform(corpus).toarray())\n",
    "\n",
    "print('vocabulary :', vector.vocabulary_)"
   ]
  },
  {
   "cell_type": "markdown",
   "id": "8a6e9942",
   "metadata": {},
   "source": [
    "주의할 점\n",
    "\n",
    "CounterVectorize는 단지 띄어쓰기만을 기준으로 단어를 자르는 낮은 수준의 토큰화를 진행하고 BoW를 만든다.  \n",
    "→ '정부가 발표하는 물가상승률과 소비자가 느끼는 물가상승률은 다르다.'라는 문장의 경우 '물가상승률'이라는 단어를 인식하지 못한다."
   ]
  },
  {
   "cell_type": "markdown",
   "id": "eacfed49",
   "metadata": {},
   "source": [
    "# 4. 불용어를 제거한 BoW 만들기"
   ]
  },
  {
   "cell_type": "code",
   "execution_count": 10,
   "id": "9fe16b5a",
   "metadata": {},
   "outputs": [],
   "source": [
    "from sklearn.feature_extraction.text import CountVectorizer\n",
    "from nltk.corpus import stopwords"
   ]
  },
  {
   "cell_type": "markdown",
   "id": "ff152681",
   "metadata": {},
   "source": [
    "#### (1) 사용자가 직접 정의한 불용어 사용"
   ]
  },
  {
   "cell_type": "code",
   "execution_count": 13,
   "id": "4a5eb895",
   "metadata": {},
   "outputs": [
    {
     "name": "stdout",
     "output_type": "stream",
     "text": [
      "bag of words vector : [[1 1 1 1 1]]\n",
      "vocabulary : {'family': 1, 'important': 2, 'thing': 4, 'it': 3, 'everything': 0}\n"
     ]
    }
   ],
   "source": [
    "text = [\"Family is not an important thing. It's everything.\"]\n",
    "vect = CountVectorizer(stop_words=[\"the\", \"a\", \"an\", \"is\", \"not\"])\n",
    "print('bag of words vector :',vect.fit_transform(text).toarray())\n",
    "print('vocabulary :', vect.vocabulary_)"
   ]
  },
  {
   "cell_type": "markdown",
   "id": "88e20937",
   "metadata": {},
   "source": [
    "#### (2) CountVectorizer에서 제공하는 자체 불용어 사용"
   ]
  },
  {
   "cell_type": "code",
   "execution_count": 14,
   "id": "3b8e1dcc",
   "metadata": {},
   "outputs": [
    {
     "name": "stdout",
     "output_type": "stream",
     "text": [
      "bag of words vector : [[1 1 1]]\n",
      "vocabulary : {'family': 0, 'important': 1, 'thing': 2}\n"
     ]
    }
   ],
   "source": [
    "text = [\"Family is not an important thing. It's everything.\"]\n",
    "vect=CountVectorizer(stop_words='english')\n",
    "print('bag of words vector :',vect.fit_transform(text).toarray())\n",
    "print('vocabulary :', vect.vocabulary_)"
   ]
  },
  {
   "cell_type": "markdown",
   "id": "a81b9b92",
   "metadata": {},
   "source": [
    "#### (3) NLTK에서 지원하는 불용어 사용"
   ]
  },
  {
   "cell_type": "code",
   "execution_count": 15,
   "id": "12dc3682",
   "metadata": {},
   "outputs": [
    {
     "name": "stdout",
     "output_type": "stream",
     "text": [
      "bag of words vector : [[1 1 1 1]]\n",
      "vocabulary : {'family': 1, 'important': 2, 'thing': 3, 'everything': 0}\n"
     ]
    }
   ],
   "source": [
    "text = [\"Family is not an important thing. It's everything.\"]\n",
    "vect=CountVectorizer(stop_words=stopwords.words('english'))\n",
    "print('bag of words vector :',vect.fit_transform(text).toarray())\n",
    "print('vocabulary :', vect.vocabulary_)"
   ]
  }
 ],
 "metadata": {
  "kernelspec": {
   "display_name": "Python 3 (ipykernel)",
   "language": "python",
   "name": "python3"
  },
  "language_info": {
   "codemirror_mode": {
    "name": "ipython",
    "version": 3
   },
   "file_extension": ".py",
   "mimetype": "text/x-python",
   "name": "python",
   "nbconvert_exporter": "python",
   "pygments_lexer": "ipython3",
   "version": "3.9.7"
  }
 },
 "nbformat": 4,
 "nbformat_minor": 5
}
